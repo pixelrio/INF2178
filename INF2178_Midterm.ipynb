{
  "nbformat": 4,
  "nbformat_minor": 0,
  "metadata": {
    "colab": {
      "provenance": []
    },
    "kernelspec": {
      "name": "python3",
      "display_name": "Python 3"
    },
    "language_info": {
      "name": "python"
    }
  },
  "cells": [
    {
      "cell_type": "code",
      "execution_count": 5,
      "metadata": {
        "id": "_FxjzeuKh0lv"
      },
      "outputs": [],
      "source": [
        "#Import the following libraries\n",
        "import pandas as pd\n",
        "import numpy as np\n",
        "import matplotlib.pyplot as plt\n",
        "import seaborn as sns\n",
        "\n",
        "import statsmodels.api as sm\n",
        "from statsmodels.formula.api import ols\n",
        "import statsmodels.stats.api as sms\n",
        "from statsmodels.stats.anova import anova_lm\n",
        "from statsmodels.graphics.factorplots import interaction_plot\n",
        "import statsmodels.stats.multicomp as mc\n",
        "from statsmodels.stats.multicomp import pairwise_tukeyhsd\n",
        "\n",
        "from scipy import stats\n",
        "from scipy.stats import f_oneway\n"
      ]
    },
    {
      "cell_type": "markdown",
      "source": [
        "# Data Cleaning and Transformation"
      ],
      "metadata": {
        "id": "qcL1IP-7moMV"
      }
    },
    {
      "cell_type": "code",
      "source": [
        "#Read the file\n",
        "data = pd.read_csv(\"Arrests_and_Strip_Searches_(RBDC-ARR-TBL-001).csv\")"
      ],
      "metadata": {
        "id": "ORJvXLqek7rX"
      },
      "execution_count": 6,
      "outputs": []
    },
    {
      "cell_type": "code",
      "source": [
        "# Calculate the sum of the two columns, 'Actions_at_arrest___Combative__' and 'Actions_at_arrest___Assaulted_o' to a new column \"Aggression_Level\" to measure the aggressiveness level\n",
        "data[\"Aggression_Level\"] = data['Actions_at_arrest___Combative__'] + data['Actions_at_arrest___Assaulted_o']"
      ],
      "metadata": {
        "id": "0xOub9zpvZYi"
      },
      "execution_count": 8,
      "outputs": []
    },
    {
      "cell_type": "code",
      "source": [
        "#Removed all columns except interested ones\n",
        "data = data.loc[:, data.columns.intersection(['Sex','Age_group__at_arrest_','Aggression_Level'])]\n",
        "data.shape\n"
      ],
      "metadata": {
        "id": "xiHBCe-doDJu",
        "colab": {
          "base_uri": "https://localhost:8080/"
        },
        "outputId": "7c77b3c5-c3ad-40a7-8583-ca2f438b837d"
      },
      "execution_count": 9,
      "outputs": [
        {
          "output_type": "execute_result",
          "data": {
            "text/plain": [
              "(65276, 3)"
            ]
          },
          "metadata": {},
          "execution_count": 9
        }
      ]
    },
    {
      "cell_type": "code",
      "source": [
        "#Delete rows with unclear sex of gender and nan values\n",
        "data = data.loc[data[\"Sex\"] != \"U\"]\n",
        "data = data.dropna(axis = 0)\n",
        "data.shape"
      ],
      "metadata": {
        "id": "W5Nrbqq0taB-",
        "colab": {
          "base_uri": "https://localhost:8080/"
        },
        "outputId": "c85bfa8d-bf7e-4559-c20c-acc4520ce205"
      },
      "execution_count": 10,
      "outputs": [
        {
          "output_type": "execute_result",
          "data": {
            "text/plain": [
              "(65243, 3)"
            ]
          },
          "metadata": {},
          "execution_count": 10
        }
      ]
    },
    {
      "cell_type": "code",
      "source": [
        "#Change all \"Aged 17 years and under\" and \"Aged 17 years and younger\" to \"Aged 17 and youger\" in the \"Age_group__at_arrest_\" column\n",
        "data['Age_group__at_arrest_'] = data['Age_group__at_arrest_'].replace('Aged 17 years and under','Aged 17 and younger')\n",
        "data['Age_group__at_arrest_'] = data['Age_group__at_arrest_'].replace('Aged 17 years and younger','Aged 17 and younger')"
      ],
      "metadata": {
        "id": "Vlb9kaZDxWvi"
      },
      "execution_count": 11,
      "outputs": []
    },
    {
      "cell_type": "code",
      "source": [
        "#Change all \"Aged 65 years and older\" to \"Aged 65 and older\" in the \"Age_group__at_arrest_\" column\n",
        "data['Age_group__at_arrest_'] = data['Age_group__at_arrest_'].replace('Aged 65 years and older','Aged 65 and older')"
      ],
      "metadata": {
        "id": "pgcgLitM7VRL"
      },
      "execution_count": 12,
      "outputs": []
    },
    {
      "cell_type": "code",
      "source": [
        "data.head"
      ],
      "metadata": {
        "id": "5jeEikkU0Abu",
        "colab": {
          "base_uri": "https://localhost:8080/"
        },
        "outputId": "1984078f-3b78-45d0-c4cd-353b1d5033a3"
      },
      "execution_count": 13,
      "outputs": [
        {
          "output_type": "execute_result",
          "data": {
            "text/plain": [
              "<bound method NDFrame.head of       Sex Age_group__at_arrest_  Aggression_Level\n",
              "0       M   Aged 35 to 44 years                 0\n",
              "1       M   Aged 35 to 44 years                 0\n",
              "2       M   Aged 35 to 44 years                 0\n",
              "3       M   Aged 25 to 34 years                 0\n",
              "4       M   Aged 25 to 34 years                 0\n",
              "...    ..                   ...               ...\n",
              "65271   F   Aged 25 to 34 years                 0\n",
              "65272   M   Aged 35 to 44 years                 0\n",
              "65273   F   Aged 45 to 54 years                 0\n",
              "65274   M   Aged 17 and younger                 0\n",
              "65275   M   Aged 18 to 24 years                 0\n",
              "\n",
              "[65243 rows x 3 columns]>"
            ]
          },
          "metadata": {},
          "execution_count": 13
        }
      ]
    },
    {
      "cell_type": "code",
      "source": [
        "print(data['Age_group__at_arrest_'].unique())"
      ],
      "metadata": {
        "id": "A1-D-ezV77j5",
        "colab": {
          "base_uri": "https://localhost:8080/"
        },
        "outputId": "72f9a742-035e-4223-cfe5-e03fd82ae142"
      },
      "execution_count": 14,
      "outputs": [
        {
          "output_type": "stream",
          "name": "stdout",
          "text": [
            "['Aged 35 to 44 years' 'Aged 25 to 34 years' 'Aged 45 to 54 years'\n",
            " 'Aged 55 to 64 years' 'Aged 18 to 24 years' 'Aged 65 and older'\n",
            " 'Aged 17 and younger']\n"
          ]
        }
      ]
    },
    {
      "cell_type": "markdown",
      "source": [
        "# EDA"
      ],
      "metadata": {
        "id": "-X1E0FIBclGf"
      }
    },
    {
      "cell_type": "code",
      "source": [
        "ax = sns.barplot(data=data, x=\"Age_group__at_arrest_\", y=\"Aggression_Level\", hue=\"Sex\")\n",
        "ax.set_xticklabels(ax.get_xticklabels(), rotation=40, ha=\"right\")\n",
        "plt.tight_layout()\n",
        "plt.show()"
      ],
      "metadata": {
        "id": "THv26Xzhcmz1",
        "colab": {
          "base_uri": "https://localhost:8080/",
          "height": 297
        },
        "outputId": "c698651f-b036-4015-8809-d6029ef789c1"
      },
      "execution_count": 15,
      "outputs": [
        {
          "output_type": "display_data",
          "data": {
            "text/plain": [
              "<Figure size 432x288 with 1 Axes>"
            ],
            "image/png": "[encoded data removed]"
          },
          "metadata": {
            "needs_background": "light"
          }
        }
      ]
    },
    {
      "cell_type": "code",
      "source": [],
      "metadata": {
        "id": "Fls6HJ4kWvWD"
      },
      "execution_count": 17,
      "outputs": []
    },
    {
      "cell_type": "markdown",
      "source": [
        "# ANOVA"
      ],
      "metadata": {
        "id": "zWg5w87AcnlL"
      }
    },
    {
      "cell_type": "code",
      "source": [
        "#Perform two-way ANOVA with interaction\n",
        "model = ols('Aggression_Level ~ C(Sex) + C(Age_group__at_arrest_) + C(Sex):C(Age_group__at_arrest_)', data = data).fit()\n",
        "sm.stats.anova_lm(model, typ=2)"
      ],
      "metadata": {
        "colab": {
          "base_uri": "https://localhost:8080/",
          "height": 175
        },
        "id": "xzZli0KadDQR",
        "outputId": "60fc7d55-a45a-491e-e1e8-cddb5820dafe"
      },
      "execution_count": null,
      "outputs": [
        {
          "output_type": "execute_result",
          "data": {
            "text/plain": [
              "                                      sum_sq       df          F        PR(>F)\n",
              "C(Sex)                              0.100795      1.0   1.784902  1.815532e-01\n",
              "C(Age_group__at_arrest_)            3.666315      6.0  10.820709  4.534492e-12\n",
              "C(Sex):C(Age_group__at_arrest_)     0.404768      6.0   1.194627  3.056266e-01\n",
              "Residual                         3683.523975  65229.0        NaN           NaN"
            ],
            "text/html": [
              "\n",
              "  <div id=\"df-01318221-866c-4f3d-971f-5878f5e4414d\">\n",
              "    <div class=\"colab-df-container\">\n",
              "      <div>\n",
              "<style scoped>\n",
              "    .dataframe tbody tr th:only-of-type {\n",
              "        vertical-align: middle;\n",
              "    }\n",
              "\n",
              "    .dataframe tbody tr th {\n",
              "        vertical-align: top;\n",
              "    }\n",
              "\n",
              "    .dataframe thead th {\n",
              "        text-align: right;\n",
              "    }\n",
              "</style>\n",
              "<table border=\"1\" class=\"dataframe\">\n",
              "  <thead>\n",
              "    <tr style=\"text-align: right;\">\n",
              "      <th></th>\n",
              "      <th>sum_sq</th>\n",
              "      <th>df</th>\n",
              "      <th>F</th>\n",
              "      <th>PR(&gt;F)</th>\n",
              "    </tr>\n",
              "  </thead>\n",
              "  <tbody>\n",
              "    <tr>\n",
              "      <th>C(Sex)</th>\n",
              "      <td>0.100795</td>\n",
              "      <td>1.0</td>\n",
              "      <td>1.784902</td>\n",
              "      <td>1.815532e-01</td>\n",
              "    </tr>\n",
              "    <tr>\n",
              "      <th>C(Age_group__at_arrest_)</th>\n",
              "      <td>3.666315</td>\n",
              "      <td>6.0</td>\n",
              "      <td>10.820709</td>\n",
              "      <td>4.534492e-12</td>\n",
              "    </tr>\n",
              "    <tr>\n",
              "      <th>C(Sex):C(Age_group__at_arrest_)</th>\n",
              "      <td>0.404768</td>\n",
              "      <td>6.0</td>\n",
              "      <td>1.194627</td>\n",
              "      <td>3.056266e-01</td>\n",
              "    </tr>\n",
              "    <tr>\n",
              "      <th>Residual</th>\n",
              "      <td>3683.523975</td>\n",
              "      <td>65229.0</td>\n",
              "      <td>NaN</td>\n",
              "      <td>NaN</td>\n",
              "    </tr>\n",
              "  </tbody>\n",
              "</table>\n",
              "</div>\n",
              "      <button class=\"colab-df-convert\" onclick=\"convertToInteractive('df-01318221-866c-4f3d-971f-5878f5e4414d')\"\n",
              "              title=\"Convert this dataframe to an interactive table.\"\n",
              "              style=\"display:none;\">\n",
              "        \n",
              "  <svg xmlns=\"http://www.w3.org/2000/svg\" height=\"24px\"viewBox=\"0 0 24 24\"\n",
              "       width=\"24px\">\n",
              "    <path d=\"M0 0h24v24H0V0z\" fill=\"none\"/>\n",
              "    <path d=\"M18.56 5.44l.94 2.06.94-2.06 2.06-.94-2.06-.94-.94-2.06-.94 2.06-2.06.94zm-11 1L8.5 8.5l.94-2.06 2.06-.94-2.06-.94L8.5 2.5l-.94 2.06-2.06.94zm10 10l.94 2.06.94-2.06 2.06-.94-2.06-.94-.94-2.06-.94 2.06-2.06.94z\"/><path d=\"M17.41 7.96l-1.37-1.37c-.4-.4-.92-.59-1.43-.59-.52 0-1.04.2-1.43.59L10.3 9.45l-7.72 7.72c-.78.78-.78 2.05 0 2.83L4 21.41c.39.39.9.59 1.41.59.51 0 1.02-.2 1.41-.59l7.78-7.78 2.81-2.81c.8-.78.8-2.07 0-2.86zM5.41 20L4 18.59l7.72-7.72 1.47 1.35L5.41 20z\"/>\n",
              "  </svg>\n",
              "      </button>\n",
              "      \n",
              "  <style>\n",
              "    .colab-df-container {\n",
              "      display:flex;\n",
              "      flex-wrap:wrap;\n",
              "      gap: 12px;\n",
              "    }\n",
              "\n",
              "    .colab-df-convert {\n",
              "      background-color: #E8F0FE;\n",
              "      border: none;\n",
              "      border-radius: 50%;\n",
              "      cursor: pointer;\n",
              "      display: none;\n",
              "      fill: #1967D2;\n",
              "      height: 32px;\n",
              "      padding: 0 0 0 0;\n",
              "      width: 32px;\n",
              "    }\n",
              "\n",
              "    .colab-df-convert:hover {\n",
              "      background-color: #E2EBFA;\n",
              "      box-shadow: 0px 1px 2px rgba(60, 64, 67, 0.3), 0px 1px 3px 1px rgba(60, 64, 67, 0.15);\n",
              "      fill: #174EA6;\n",
              "    }\n",
              "\n",
              "    [theme=dark] .colab-df-convert {\n",
              "      background-color: #3B4455;\n",
              "      fill: #D2E3FC;\n",
              "    }\n",
              "\n",
              "    [theme=dark] .colab-df-convert:hover {\n",
              "      background-color: #434B5C;\n",
              "      box-shadow: 0px 1px 3px 1px rgba(0, 0, 0, 0.15);\n",
              "      filter: drop-shadow(0px 1px 2px rgba(0, 0, 0, 0.3));\n",
              "      fill: #FFFFFF;\n",
              "    }\n",
              "  </style>\n",
              "\n",
              "      <script>\n",
              "        const buttonEl =\n",
              "          document.querySelector('#df-01318221-866c-4f3d-971f-5878f5e4414d button.colab-df-convert');\n",
              "        buttonEl.style.display =\n",
              "          google.colab.kernel.accessAllowed ? 'block' : 'none';\n",
              "\n",
              "        async function convertToInteractive(key) {\n",
              "          const element = document.querySelector('#df-01318221-866c-4f3d-971f-5878f5e4414d');\n",
              "          const dataTable =\n",
              "            await google.colab.kernel.invokeFunction('convertToInteractive',\n",
              "                                                     [key], {});\n",
              "          if (!dataTable) return;\n",
              "\n",
              "          const docLinkHtml = 'Like what you see? Visit the ' +\n",
              "            '<a target=\"_blank\" href=https://colab.research.google.com/notebooks/data_table.ipynb>data table notebook</a>'\n",
              "            + ' to learn more about interactive tables.';\n",
              "          element.innerHTML = '';\n",
              "          dataTable['output_type'] = 'display_data';\n",
              "          await google.colab.output.renderOutput(dataTable, element);\n",
              "          const docLink = document.createElement('div');\n",
              "          docLink.innerHTML = docLinkHtml;\n",
              "          element.appendChild(docLink);\n",
              "        }\n",
              "      </script>\n",
              "    </div>\n",
              "  </div>\n",
              "  "
            ]
          },
          "metadata": {},
          "execution_count": 21
        }
      ]
    },
    {
      "cell_type": "code",
      "source": [
        "#Plot an interaction plot\n",
        "fig = interaction_plot(x = data['Age_group__at_arrest_'], trace = data['Sex'], response = data['Aggression_Level'])\n",
        "plt.xticks(rotation=45)\n",
        "plt.show()"
      ],
      "metadata": {
        "colab": {
          "base_uri": "https://localhost:8080/",
          "height": 354
        },
        "id": "et-5aOw42I-s",
        "outputId": "becae399-9ac3-4a24-e35a-4ff836a42475"
      },
      "execution_count": null,
      "outputs": [
        {
          "output_type": "display_data",
          "data": {
            "text/plain": [
              "<Figure size 432x288 with 1 Axes>"
            ],
            "image/png": "[encoded data removed]"
          },
          "metadata": {
            "needs_background": "light"
          }
        }
      ]
    },
    {
      "cell_type": "code",
      "source": [
        "#Perform two-way ANOVA without interaction\n",
        "model2 = ols('Aggression_Level ~ C(Sex) + C(Age_group__at_arrest_)', data = data).fit()\n",
        "sm.stats.anova_lm(model2, typ=2)"
      ],
      "metadata": {
        "colab": {
          "base_uri": "https://localhost:8080/",
          "height": 143
        },
        "id": "BVOMdojXSXGr",
        "outputId": "ce4b607a-8e9a-4c06-c6e7-16fdfbdcd54b"
      },
      "execution_count": null,
      "outputs": [
        {
          "output_type": "execute_result",
          "data": {
            "text/plain": [
              "                               sum_sq       df          F        PR(>F)\n",
              "C(Sex)                       0.100795      1.0   1.784870  1.815571e-01\n",
              "C(Age_group__at_arrest_)     3.666315      6.0  10.820515  4.536962e-12\n",
              "Residual                  3683.928743  65235.0        NaN           NaN"
            ],
            "text/html": [
              "\n",
              "  <div id=\"df-5640fae8-4e3c-4758-8913-10888a05f6c8\">\n",
              "    <div class=\"colab-df-container\">\n",
              "      <div>\n",
              "<style scoped>\n",
              "    .dataframe tbody tr th:only-of-type {\n",
              "        vertical-align: middle;\n",
              "    }\n",
              "\n",
              "    .dataframe tbody tr th {\n",
              "        vertical-align: top;\n",
              "    }\n",
              "\n",
              "    .dataframe thead th {\n",
              "        text-align: right;\n",
              "    }\n",
              "</style>\n",
              "<table border=\"1\" class=\"dataframe\">\n",
              "  <thead>\n",
              "    <tr style=\"text-align: right;\">\n",
              "      <th></th>\n",
              "      <th>sum_sq</th>\n",
              "      <th>df</th>\n",
              "      <th>F</th>\n",
              "      <th>PR(&gt;F)</th>\n",
              "    </tr>\n",
              "  </thead>\n",
              "  <tbody>\n",
              "    <tr>\n",
              "      <th>C(Sex)</th>\n",
              "      <td>0.100795</td>\n",
              "      <td>1.0</td>\n",
              "      <td>1.784870</td>\n",
              "      <td>1.815571e-01</td>\n",
              "    </tr>\n",
              "    <tr>\n",
              "      <th>C(Age_group__at_arrest_)</th>\n",
              "      <td>3.666315</td>\n",
              "      <td>6.0</td>\n",
              "      <td>10.820515</td>\n",
              "      <td>4.536962e-12</td>\n",
              "    </tr>\n",
              "    <tr>\n",
              "      <th>Residual</th>\n",
              "      <td>3683.928743</td>\n",
              "      <td>65235.0</td>\n",
              "      <td>NaN</td>\n",
              "      <td>NaN</td>\n",
              "    </tr>\n",
              "  </tbody>\n",
              "</table>\n",
              "</div>\n",
              "      <button class=\"colab-df-convert\" onclick=\"convertToInteractive('df-5640fae8-4e3c-4758-8913-10888a05f6c8')\"\n",
              "              title=\"Convert this dataframe to an interactive table.\"\n",
              "              style=\"display:none;\">\n",
              "        \n",
              "  <svg xmlns=\"http://www.w3.org/2000/svg\" height=\"24px\"viewBox=\"0 0 24 24\"\n",
              "       width=\"24px\">\n",
              "    <path d=\"M0 0h24v24H0V0z\" fill=\"none\"/>\n",
              "    <path d=\"M18.56 5.44l.94 2.06.94-2.06 2.06-.94-2.06-.94-.94-2.06-.94 2.06-2.06.94zm-11 1L8.5 8.5l.94-2.06 2.06-.94-2.06-.94L8.5 2.5l-.94 2.06-2.06.94zm10 10l.94 2.06.94-2.06 2.06-.94-2.06-.94-.94-2.06-.94 2.06-2.06.94z\"/><path d=\"M17.41 7.96l-1.37-1.37c-.4-.4-.92-.59-1.43-.59-.52 0-1.04.2-1.43.59L10.3 9.45l-7.72 7.72c-.78.78-.78 2.05 0 2.83L4 21.41c.39.39.9.59 1.41.59.51 0 1.02-.2 1.41-.59l7.78-7.78 2.81-2.81c.8-.78.8-2.07 0-2.86zM5.41 20L4 18.59l7.72-7.72 1.47 1.35L5.41 20z\"/>\n",
              "  </svg>\n",
              "      </button>\n",
              "      \n",
              "  <style>\n",
              "    .colab-df-container {\n",
              "      display:flex;\n",
              "      flex-wrap:wrap;\n",
              "      gap: 12px;\n",
              "    }\n",
              "\n",
              "    .colab-df-convert {\n",
              "      background-color: #E8F0FE;\n",
              "      border: none;\n",
              "      border-radius: 50%;\n",
              "      cursor: pointer;\n",
              "      display: none;\n",
              "      fill: #1967D2;\n",
              "      height: 32px;\n",
              "      padding: 0 0 0 0;\n",
              "      width: 32px;\n",
              "    }\n",
              "\n",
              "    .colab-df-convert:hover {\n",
              "      background-color: #E2EBFA;\n",
              "      box-shadow: 0px 1px 2px rgba(60, 64, 67, 0.3), 0px 1px 3px 1px rgba(60, 64, 67, 0.15);\n",
              "      fill: #174EA6;\n",
              "    }\n",
              "\n",
              "    [theme=dark] .colab-df-convert {\n",
              "      background-color: #3B4455;\n",
              "      fill: #D2E3FC;\n",
              "    }\n",
              "\n",
              "    [theme=dark] .colab-df-convert:hover {\n",
              "      background-color: #434B5C;\n",
              "      box-shadow: 0px 1px 3px 1px rgba(0, 0, 0, 0.15);\n",
              "      filter: drop-shadow(0px 1px 2px rgba(0, 0, 0, 0.3));\n",
              "      fill: #FFFFFF;\n",
              "    }\n",
              "  </style>\n",
              "\n",
              "      <script>\n",
              "        const buttonEl =\n",
              "          document.querySelector('#df-5640fae8-4e3c-4758-8913-10888a05f6c8 button.colab-df-convert');\n",
              "        buttonEl.style.display =\n",
              "          google.colab.kernel.accessAllowed ? 'block' : 'none';\n",
              "\n",
              "        async function convertToInteractive(key) {\n",
              "          const element = document.querySelector('#df-5640fae8-4e3c-4758-8913-10888a05f6c8');\n",
              "          const dataTable =\n",
              "            await google.colab.kernel.invokeFunction('convertToInteractive',\n",
              "                                                     [key], {});\n",
              "          if (!dataTable) return;\n",
              "\n",
              "          const docLinkHtml = 'Like what you see? Visit the ' +\n",
              "            '<a target=\"_blank\" href=https://colab.research.google.com/notebooks/data_table.ipynb>data table notebook</a>'\n",
              "            + ' to learn more about interactive tables.';\n",
              "          element.innerHTML = '';\n",
              "          dataTable['output_type'] = 'display_data';\n",
              "          await google.colab.output.renderOutput(dataTable, element);\n",
              "          const docLink = document.createElement('div');\n",
              "          docLink.innerHTML = docLinkHtml;\n",
              "          element.appendChild(docLink);\n",
              "        }\n",
              "      </script>\n",
              "    </div>\n",
              "  </div>\n",
              "  "
            ]
          },
          "metadata": {},
          "execution_count": 23
        }
      ]
    },
    {
      "cell_type": "code",
      "source": [
        "#Estimate the means of each age group\n",
        "print(data.groupby('Age_group__at_arrest_').mean())"
      ],
      "metadata": {
        "id": "igToEJEjZOG6",
        "colab": {
          "base_uri": "https://localhost:8080/"
        },
        "outputId": "6ab0cc00-3ee2-4803-8962-7eae9fbf06a3"
      },
      "execution_count": null,
      "outputs": [
        {
          "output_type": "stream",
          "name": "stdout",
          "text": [
            "                       Aggression_Level\n",
            "Age_group__at_arrest_                  \n",
            "Aged 17 and younger            0.025641\n",
            "Aged 18 to 24 years            0.047814\n",
            "Aged 25 to 34 years            0.056099\n",
            "Aged 35 to 44 years            0.055046\n",
            "Aged 45 to 54 years            0.045886\n",
            "Aged 55 to 64 years            0.045118\n",
            "Aged 65 and older              0.033283\n"
          ]
        }
      ]
    },
    {
      "cell_type": "code",
      "source": [
        "#One-way ANOVA on Sex\n",
        "#Samples\n",
        "sample_f = data[data['Sex'] == 'F']['Aggression_Level']\n",
        "sample_m = data[data['Sex'] == 'M']['Aggression_Level']\n",
        "\n",
        "#Implement one-way ANOVA\n",
        "s, p = f_oneway(sample_f, sample_m)\n",
        "\n",
        "print(f'One-way ANOVA: s = {s}, p = {p}')"
      ],
      "metadata": {
        "colab": {
          "base_uri": "https://localhost:8080/"
        },
        "id": "-M8Pg0OZfJ39",
        "outputId": "1c4f5928-dbea-483d-e185-76b9aedf9274"
      },
      "execution_count": null,
      "outputs": [
        {
          "output_type": "stream",
          "name": "stdout",
          "text": [
            "One-way ANOVA: s = 1.7142503323620455, p = 0.1904394500165444\n"
          ]
        }
      ]
    },
    {
      "cell_type": "markdown",
      "source": [
        "#Post-Hoc Tests"
      ],
      "metadata": {
        "id": "qonzDPbYqDbk"
      }
    },
    {
      "cell_type": "code",
      "source": [
        "#Running post hoc tukey test for different age groups\n",
        "tukey = pairwise_tukeyhsd(endog=data[\"Aggression_Level\"], groups=data['Age_group__at_arrest_'], alpha=0.05)\n",
        "print(tukey)"
      ],
      "metadata": {
        "colab": {
          "base_uri": "https://localhost:8080/"
        },
        "id": "4NbQ3-CmgoFn",
        "outputId": "e0cf9a6e-81a7-4538-dc22-c15f7b2de5d1"
      },
      "execution_count": null,
      "outputs": [
        {
          "output_type": "stream",
          "name": "stdout",
          "text": [
            "             Multiple Comparison of Means - Tukey HSD, FWER=0.05              \n",
            "==============================================================================\n",
            "       group1              group2       meandiff p-adj   lower   upper  reject\n",
            "------------------------------------------------------------------------------\n",
            "Aged 17 and younger Aged 18 to 24 years   0.0222  0.001  0.0077  0.0367   True\n",
            "Aged 17 and younger Aged 25 to 34 years   0.0305  0.001  0.0169  0.0441   True\n",
            "Aged 17 and younger Aged 35 to 44 years   0.0294  0.001  0.0156  0.0432   True\n",
            "Aged 17 and younger Aged 45 to 54 years   0.0202  0.001  0.0056  0.0349   True\n",
            "Aged 17 and younger Aged 55 to 64 years   0.0195 0.0083  0.0031  0.0359   True\n",
            "Aged 17 and younger   Aged 65 and older   0.0076    0.9 -0.0154  0.0307  False\n",
            "Aged 18 to 24 years Aged 25 to 34 years   0.0083 0.0622 -0.0002  0.0168  False\n",
            "Aged 18 to 24 years Aged 35 to 44 years   0.0072 0.1995 -0.0017  0.0161  False\n",
            "Aged 18 to 24 years Aged 45 to 54 years  -0.0019    0.9 -0.0121  0.0082  False\n",
            "Aged 18 to 24 years Aged 55 to 64 years  -0.0027    0.9 -0.0152  0.0098  False\n",
            "Aged 18 to 24 years   Aged 65 and older  -0.0145 0.3594  -0.035   0.006  False\n",
            "Aged 25 to 34 years Aged 35 to 44 years  -0.0011    0.9 -0.0084  0.0063  False\n",
            "Aged 25 to 34 years Aged 45 to 54 years  -0.0102 0.0112  -0.019 -0.0014   True\n",
            "Aged 25 to 34 years Aged 55 to 64 years   -0.011  0.069 -0.0224  0.0004  False\n",
            "Aged 25 to 34 years   Aged 65 and older  -0.0228 0.0126 -0.0427 -0.0029   True\n",
            "Aged 35 to 44 years Aged 45 to 54 years  -0.0092 0.0512 -0.0183     0.0  False\n",
            "Aged 35 to 44 years Aged 55 to 64 years  -0.0099 0.1596 -0.0216  0.0018  False\n",
            "Aged 35 to 44 years   Aged 65 and older  -0.0218 0.0231 -0.0418 -0.0017   True\n",
            "Aged 45 to 54 years Aged 55 to 64 years  -0.0008    0.9 -0.0135  0.0119  False\n",
            "Aged 45 to 54 years   Aged 65 and older  -0.0126 0.5403 -0.0332   0.008  False\n",
            "Aged 55 to 64 years   Aged 65 and older  -0.0118 0.6614 -0.0337    0.01  False\n",
            "------------------------------------------------------------------------------\n"
          ]
        }
      ]
    },
    {
      "cell_type": "code",
      "source": [
        "#Running post hoc tukey test for both genders\n",
        "tukey = pairwise_tukeyhsd(endog=data[\"Aggression_Level\"], groups=data['Sex'], alpha=0.05)\n",
        "print(tukey)"
      ],
      "metadata": {
        "id": "kQdOf98JqKt0",
        "colab": {
          "base_uri": "https://localhost:8080/"
        },
        "outputId": "9da5bd49-f779-45d0-ccee-f1edfe77231a"
      },
      "execution_count": null,
      "outputs": [
        {
          "output_type": "stream",
          "name": "stdout",
          "text": [
            "Multiple Comparison of Means - Tukey HSD, FWER=0.05\n",
            "===================================================\n",
            "group1 group2 meandiff p-adj   lower  upper  reject\n",
            "---------------------------------------------------\n",
            "     F      M  -0.0031 0.1904 -0.0077 0.0015  False\n",
            "---------------------------------------------------\n"
          ]
        }
      ]
    },
    {
      "cell_type": "code",
      "source": [
        "#Research Question 2: Is there a connection between Race, Sex and strip searches and arrests, does being a man or woman or belonging to a specific raceincrease the chances of strip search or getting booked\n",
        "#H0: There is no difference in the mean number of strip searches for men or women\n",
        "#H1: There is statistically significant difference between strip searches for men and women\n",
        "df = pd.read_csv('Arrests_and_Strip_Searches_(RBDC-ARR-TBL-001).csv')\n",
        "df.head()"
      ],
      "metadata": {
        "colab": {
          "base_uri": "https://localhost:8080/",
          "height": 317
        },
        "id": "8lIDh76CW-2R",
        "outputId": "5916b901-2877-4704-a1ea-096cbe404b47"
      },
      "execution_count": 18,
      "outputs": [
        {
          "output_type": "execute_result",
          "data": {
            "text/plain": [
              "   Arrest_Year Arrest_Month  EventID   ArrestID  PersonID     Perceived_Race  \\\n",
              "0         2020    July-Sept  1005907  6017884.0    326622              White   \n",
              "1         2020    July-Sept  1014562  6056669.0    326622              White   \n",
              "2         2020      Oct-Dec  1029922  6057065.0    326622  Unknown or Legacy   \n",
              "3         2021      Jan-Mar  1052190  6029059.0    327535              Black   \n",
              "4         2021      Jan-Mar  1015512  6040372.0    327535        South Asian   \n",
              "\n",
              "  Sex Age_group__at_arrest_ Youth_at_arrest__under_18_years ArrestLocDiv  ...  \\\n",
              "0   M   Aged 35 to 44 years                     Not a youth           54  ...   \n",
              "1   M   Aged 35 to 44 years                     Not a youth           54  ...   \n",
              "2   M   Aged 35 to 44 years                     Not a youth           54  ...   \n",
              "3   M   Aged 25 to 34 years                     Not a youth           XX  ...   \n",
              "4   M   Aged 25 to 34 years                     Not a youth           XX  ...   \n",
              "\n",
              "   Actions_at_arrest___Resisted__d  Actions_at_arrest___Mental_inst  \\\n",
              "0                                0                                0   \n",
              "1                                0                                0   \n",
              "2                                0                                0   \n",
              "3                                0                                0   \n",
              "4                                0                                0   \n",
              "\n",
              "  Actions_at_arrest___Assaulted_o  Actions_at_arrest___Cooperative  \\\n",
              "0                               0                                1   \n",
              "1                               0                                0   \n",
              "2                               0                                0   \n",
              "3                               0                                0   \n",
              "4                               0                                0   \n",
              "\n",
              "   SearchReason_CauseInjury  SearchReason_AssistEscape  \\\n",
              "0                       NaN                        NaN   \n",
              "1                       NaN                        NaN   \n",
              "2                       NaN                        NaN   \n",
              "3                       NaN                        NaN   \n",
              "4                       NaN                        NaN   \n",
              "\n",
              "   SearchReason_PossessWeapons  SearchReason_PossessEvidence  ItemsFound  \\\n",
              "0                          NaN                           NaN         NaN   \n",
              "1                          NaN                           NaN         NaN   \n",
              "2                          NaN                           NaN         NaN   \n",
              "3                          NaN                           NaN         NaN   \n",
              "4                          NaN                           NaN         NaN   \n",
              "\n",
              "   ObjectId  \n",
              "0         1  \n",
              "1         2  \n",
              "2         3  \n",
              "3         4  \n",
              "4         5  \n",
              "\n",
              "[5 rows x 25 columns]"
            ],
            "text/html": [
              "\n",
              "  <div id=\"df-1e972bce-0472-47b4-b300-d94ff31919b8\">\n",
              "    <div class=\"colab-df-container\">\n",
              "      <div>\n",
              "<style scoped>\n",
              "    .dataframe tbody tr th:only-of-type {\n",
              "        vertical-align: middle;\n",
              "    }\n",
              "\n",
              "    .dataframe tbody tr th {\n",
              "        vertical-align: top;\n",
              "    }\n",
              "\n",
              "    .dataframe thead th {\n",
              "        text-align: right;\n",
              "    }\n",
              "</style>\n",
              "<table border=\"1\" class=\"dataframe\">\n",
              "  <thead>\n",
              "    <tr style=\"text-align: right;\">\n",
              "      <th></th>\n",
              "      <th>Arrest_Year</th>\n",
              "      <th>Arrest_Month</th>\n",
              "      <th>EventID</th>\n",
              "      <th>ArrestID</th>\n",
              "      <th>PersonID</th>\n",
              "      <th>Perceived_Race</th>\n",
              "      <th>Sex</th>\n",
              "      <th>Age_group__at_arrest_</th>\n",
              "      <th>Youth_at_arrest__under_18_years</th>\n",
              "      <th>ArrestLocDiv</th>\n",
              "      <th>...</th>\n",
              "      <th>Actions_at_arrest___Resisted__d</th>\n",
              "      <th>Actions_at_arrest___Mental_inst</th>\n",
              "      <th>Actions_at_arrest___Assaulted_o</th>\n",
              "      <th>Actions_at_arrest___Cooperative</th>\n",
              "      <th>SearchReason_CauseInjury</th>\n",
              "      <th>SearchReason_AssistEscape</th>\n",
              "      <th>SearchReason_PossessWeapons</th>\n",
              "      <th>SearchReason_PossessEvidence</th>\n",
              "      <th>ItemsFound</th>\n",
              "      <th>ObjectId</th>\n",
              "    </tr>\n",
              "  </thead>\n",
              "  <tbody>\n",
              "    <tr>\n",
              "      <th>0</th>\n",
              "      <td>2020</td>\n",
              "      <td>July-Sept</td>\n",
              "      <td>1005907</td>\n",
              "      <td>6017884.0</td>\n",
              "      <td>326622</td>\n",
              "      <td>White</td>\n",
              "      <td>M</td>\n",
              "      <td>Aged 35 to 44 years</td>\n",
              "      <td>Not a youth</td>\n",
              "      <td>54</td>\n",
              "      <td>...</td>\n",
              "      <td>0</td>\n",
              "      <td>0</td>\n",
              "      <td>0</td>\n",
              "      <td>1</td>\n",
              "      <td>NaN</td>\n",
              "      <td>NaN</td>\n",
              "      <td>NaN</td>\n",
              "      <td>NaN</td>\n",
              "      <td>NaN</td>\n",
              "      <td>1</td>\n",
              "    </tr>\n",
              "    <tr>\n",
              "      <th>1</th>\n",
              "      <td>2020</td>\n",
              "      <td>July-Sept</td>\n",
              "      <td>1014562</td>\n",
              "      <td>6056669.0</td>\n",
              "      <td>326622</td>\n",
              "      <td>White</td>\n",
              "      <td>M</td>\n",
              "      <td>Aged 35 to 44 years</td>\n",
              "      <td>Not a youth</td>\n",
              "      <td>54</td>\n",
              "      <td>...</td>\n",
              "      <td>0</td>\n",
              "      <td>0</td>\n",
              "      <td>0</td>\n",
              "      <td>0</td>\n",
              "      <td>NaN</td>\n",
              "      <td>NaN</td>\n",
              "      <td>NaN</td>\n",
              "      <td>NaN</td>\n",
              "      <td>NaN</td>\n",
              "      <td>2</td>\n",
              "    </tr>\n",
              "    <tr>\n",
              "      <th>2</th>\n",
              "      <td>2020</td>\n",
              "      <td>Oct-Dec</td>\n",
              "      <td>1029922</td>\n",
              "      <td>6057065.0</td>\n",
              "      <td>326622</td>\n",
              "      <td>Unknown or Legacy</td>\n",
              "      <td>M</td>\n",
              "      <td>Aged 35 to 44 years</td>\n",
              "      <td>Not a youth</td>\n",
              "      <td>54</td>\n",
              "      <td>...</td>\n",
              "      <td>0</td>\n",
              "      <td>0</td>\n",
              "      <td>0</td>\n",
              "      <td>0</td>\n",
              "      <td>NaN</td>\n",
              "      <td>NaN</td>\n",
              "      <td>NaN</td>\n",
              "      <td>NaN</td>\n",
              "      <td>NaN</td>\n",
              "      <td>3</td>\n",
              "    </tr>\n",
              "    <tr>\n",
              "      <th>3</th>\n",
              "      <td>2021</td>\n",
              "      <td>Jan-Mar</td>\n",
              "      <td>1052190</td>\n",
              "      <td>6029059.0</td>\n",
              "      <td>327535</td>\n",
              "      <td>Black</td>\n",
              "      <td>M</td>\n",
              "      <td>Aged 25 to 34 years</td>\n",
              "      <td>Not a youth</td>\n",
              "      <td>XX</td>\n",
              "      <td>...</td>\n",
              "      <td>0</td>\n",
              "      <td>0</td>\n",
              "      <td>0</td>\n",
              "      <td>0</td>\n",
              "      <td>NaN</td>\n",
              "      <td>NaN</td>\n",
              "      <td>NaN</td>\n",
              "      <td>NaN</td>\n",
              "      <td>NaN</td>\n",
              "      <td>4</td>\n",
              "    </tr>\n",
              "    <tr>\n",
              "      <th>4</th>\n",
              "      <td>2021</td>\n",
              "      <td>Jan-Mar</td>\n",
              "      <td>1015512</td>\n",
              "      <td>6040372.0</td>\n",
              "      <td>327535</td>\n",
              "      <td>South Asian</td>\n",
              "      <td>M</td>\n",
              "      <td>Aged 25 to 34 years</td>\n",
              "      <td>Not a youth</td>\n",
              "      <td>XX</td>\n",
              "      <td>...</td>\n",
              "      <td>0</td>\n",
              "      <td>0</td>\n",
              "      <td>0</td>\n",
              "      <td>0</td>\n",
              "      <td>NaN</td>\n",
              "      <td>NaN</td>\n",
              "      <td>NaN</td>\n",
              "      <td>NaN</td>\n",
              "      <td>NaN</td>\n",
              "      <td>5</td>\n",
              "    </tr>\n",
              "  </tbody>\n",
              "</table>\n",
              "<p>5 rows × 25 columns</p>\n",
              "</div>\n",
              "      <button class=\"colab-df-convert\" onclick=\"convertToInteractive('df-1e972bce-0472-47b4-b300-d94ff31919b8')\"\n",
              "              title=\"Convert this dataframe to an interactive table.\"\n",
              "              style=\"display:none;\">\n",
              "        \n",
              "  <svg xmlns=\"http://www.w3.org/2000/svg\" height=\"24px\"viewBox=\"0 0 24 24\"\n",
              "       width=\"24px\">\n",
              "    <path d=\"M0 0h24v24H0V0z\" fill=\"none\"/>\n",
              "    <path d=\"M18.56 5.44l.94 2.06.94-2.06 2.06-.94-2.06-.94-.94-2.06-.94 2.06-2.06.94zm-11 1L8.5 8.5l.94-2.06 2.06-.94-2.06-.94L8.5 2.5l-.94 2.06-2.06.94zm10 10l.94 2.06.94-2.06 2.06-.94-2.06-.94-.94-2.06-.94 2.06-2.06.94z\"/><path d=\"M17.41 7.96l-1.37-1.37c-.4-.4-.92-.59-1.43-.59-.52 0-1.04.2-1.43.59L10.3 9.45l-7.72 7.72c-.78.78-.78 2.05 0 2.83L4 21.41c.39.39.9.59 1.41.59.51 0 1.02-.2 1.41-.59l7.78-7.78 2.81-2.81c.8-.78.8-2.07 0-2.86zM5.41 20L4 18.59l7.72-7.72 1.47 1.35L5.41 20z\"/>\n",
              "  </svg>\n",
              "      </button>\n",
              "      \n",
              "  <style>\n",
              "    .colab-df-container {\n",
              "      display:flex;\n",
              "      flex-wrap:wrap;\n",
              "      gap: 12px;\n",
              "    }\n",
              "\n",
              "    .colab-df-convert {\n",
              "      background-color: #E8F0FE;\n",
              "      border: none;\n",
              "      border-radius: 50%;\n",
              "      cursor: pointer;\n",
              "      display: none;\n",
              "      fill: #1967D2;\n",
              "      height: 32px;\n",
              "      padding: 0 0 0 0;\n",
              "      width: 32px;\n",
              "    }\n",
              "\n",
              "    .colab-df-convert:hover {\n",
              "      background-color: #E2EBFA;\n",
              "      box-shadow: 0px 1px 2px rgba(60, 64, 67, 0.3), 0px 1px 3px 1px rgba(60, 64, 67, 0.15);\n",
              "      fill: #174EA6;\n",
              "    }\n",
              "\n",
              "    [theme=dark] .colab-df-convert {\n",
              "      background-color: #3B4455;\n",
              "      fill: #D2E3FC;\n",
              "    }\n",
              "\n",
              "    [theme=dark] .colab-df-convert:hover {\n",
              "      background-color: #434B5C;\n",
              "      box-shadow: 0px 1px 3px 1px rgba(0, 0, 0, 0.15);\n",
              "      filter: drop-shadow(0px 1px 2px rgba(0, 0, 0, 0.3));\n",
              "      fill: #FFFFFF;\n",
              "    }\n",
              "  </style>\n",
              "\n",
              "      <script>\n",
              "        const buttonEl =\n",
              "          document.querySelector('#df-1e972bce-0472-47b4-b300-d94ff31919b8 button.colab-df-convert');\n",
              "        buttonEl.style.display =\n",
              "          google.colab.kernel.accessAllowed ? 'block' : 'none';\n",
              "\n",
              "        async function convertToInteractive(key) {\n",
              "          const element = document.querySelector('#df-1e972bce-0472-47b4-b300-d94ff31919b8');\n",
              "          const dataTable =\n",
              "            await google.colab.kernel.invokeFunction('convertToInteractive',\n",
              "                                                     [key], {});\n",
              "          if (!dataTable) return;\n",
              "\n",
              "          const docLinkHtml = 'Like what you see? Visit the ' +\n",
              "            '<a target=\"_blank\" href=https://colab.research.google.com/notebooks/data_table.ipynb>data table notebook</a>'\n",
              "            + ' to learn more about interactive tables.';\n",
              "          element.innerHTML = '';\n",
              "          dataTable['output_type'] = 'display_data';\n",
              "          await google.colab.output.renderOutput(dataTable, element);\n",
              "          const docLink = document.createElement('div');\n",
              "          docLink.innerHTML = docLinkHtml;\n",
              "          element.appendChild(docLink);\n",
              "        }\n",
              "      </script>\n",
              "    </div>\n",
              "  </div>\n",
              "  "
            ]
          },
          "metadata": {},
          "execution_count": 18
        }
      ]
    },
    {
      "cell_type": "code",
      "source": [
        "# Having a look at the data types\n",
        "df.info()"
      ],
      "metadata": {
        "colab": {
          "base_uri": "https://localhost:8080/"
        },
        "id": "I2v8pOykXF2D",
        "outputId": "ac0cc593-e04a-4c98-a0e4-3a66d4a5eae0"
      },
      "execution_count": 19,
      "outputs": [
        {
          "output_type": "stream",
          "name": "stdout",
          "text": [
            "<class 'pandas.core.frame.DataFrame'>\n",
            "RangeIndex: 65276 entries, 0 to 65275\n",
            "Data columns (total 25 columns):\n",
            " #   Column                           Non-Null Count  Dtype  \n",
            "---  ------                           --------------  -----  \n",
            " 0   Arrest_Year                      65276 non-null  int64  \n",
            " 1   Arrest_Month                     65276 non-null  object \n",
            " 2   EventID                          65276 non-null  int64  \n",
            " 3   ArrestID                         64807 non-null  float64\n",
            " 4   PersonID                         65276 non-null  int64  \n",
            " 5   Perceived_Race                   65272 non-null  object \n",
            " 6   Sex                              65276 non-null  object \n",
            " 7   Age_group__at_arrest_            65252 non-null  object \n",
            " 8   Youth_at_arrest__under_18_years  65276 non-null  object \n",
            " 9   ArrestLocDiv                     65276 non-null  object \n",
            " 10  StripSearch                      65276 non-null  int64  \n",
            " 11  Booked                           65276 non-null  int64  \n",
            " 12  Occurrence_Category              65111 non-null  object \n",
            " 13  Actions_at_arrest___Concealed_i  65276 non-null  int64  \n",
            " 14  Actions_at_arrest___Combative__  65276 non-null  int64  \n",
            " 15  Actions_at_arrest___Resisted__d  65276 non-null  int64  \n",
            " 16  Actions_at_arrest___Mental_inst  65276 non-null  int64  \n",
            " 17  Actions_at_arrest___Assaulted_o  65276 non-null  int64  \n",
            " 18  Actions_at_arrest___Cooperative  65276 non-null  int64  \n",
            " 19  SearchReason_CauseInjury         7801 non-null   float64\n",
            " 20  SearchReason_AssistEscape        7801 non-null   float64\n",
            " 21  SearchReason_PossessWeapons      7801 non-null   float64\n",
            " 22  SearchReason_PossessEvidence     7801 non-null   float64\n",
            " 23  ItemsFound                       7801 non-null   float64\n",
            " 24  ObjectId                         65276 non-null  int64  \n",
            "dtypes: float64(6), int64(12), object(7)\n",
            "memory usage: 12.5+ MB\n"
          ]
        }
      ]
    },
    {
      "cell_type": "code",
      "source": [
        "# Lets see how many missing values we have in our dataset\n",
        "df.isnull().sum()"
      ],
      "metadata": {
        "colab": {
          "base_uri": "https://localhost:8080/"
        },
        "id": "2EuM4IhiXHzG",
        "outputId": "65c3bef9-9861-4b2e-e7c8-57e34b60c825"
      },
      "execution_count": 20,
      "outputs": [
        {
          "output_type": "execute_result",
          "data": {
            "text/plain": [
              "Arrest_Year                            0\n",
              "Arrest_Month                           0\n",
              "EventID                                0\n",
              "ArrestID                             469\n",
              "PersonID                               0\n",
              "Perceived_Race                         4\n",
              "Sex                                    0\n",
              "Age_group__at_arrest_                 24\n",
              "Youth_at_arrest__under_18_years        0\n",
              "ArrestLocDiv                           0\n",
              "StripSearch                            0\n",
              "Booked                                 0\n",
              "Occurrence_Category                  165\n",
              "Actions_at_arrest___Concealed_i        0\n",
              "Actions_at_arrest___Combative__        0\n",
              "Actions_at_arrest___Resisted__d        0\n",
              "Actions_at_arrest___Mental_inst        0\n",
              "Actions_at_arrest___Assaulted_o        0\n",
              "Actions_at_arrest___Cooperative        0\n",
              "SearchReason_CauseInjury           57475\n",
              "SearchReason_AssistEscape          57475\n",
              "SearchReason_PossessWeapons        57475\n",
              "SearchReason_PossessEvidence       57475\n",
              "ItemsFound                         57475\n",
              "ObjectId                               0\n",
              "dtype: int64"
            ]
          },
          "metadata": {},
          "execution_count": 20
        }
      ]
    },
    {
      "cell_type": "code",
      "source": [
        "#Checking some individual columns and seeing if we can optimize them for analysis\n",
        "df['Occurrence_Category'].value_counts()"
      ],
      "metadata": {
        "colab": {
          "base_uri": "https://localhost:8080/"
        },
        "id": "oR99uD6SXIrX",
        "outputId": "db6755e5-2c94-4dd1-c453-b35d62562b48"
      },
      "execution_count": 21,
      "outputs": [
        {
          "output_type": "execute_result",
          "data": {
            "text/plain": [
              "Assault                                            7726\n",
              "Assault & Other crimes against persons             7235\n",
              "Robbery & Theft                                    4580\n",
              "Warrant                                            4385\n",
              "FTA/FTC/Compliance Check/Parollee                  4246\n",
              "Police Category - Administrative                   3888\n",
              "FTA/FTC, Compliance Check & Parollee               3877\n",
              "Robbery/Theft                                      3754\n",
              "Drug Related                                       2751\n",
              "Other Statute & Other Incident Type                2344\n",
              "Vehicle Related (inc. Impaired)                    1977\n",
              "Other Offence                                      1972\n",
              "Mischief & Fraud                                   1732\n",
              "Impaired                                           1362\n",
              "Harassment/Threatening                             1346\n",
              "Mischief                                           1322\n",
              "Harassment & Threatening                           1268\n",
              "Weapons                                            1108\n",
              "Weapons & Homicide                                 1105\n",
              "Other Statute                                       944\n",
              "Break & Enter                                       916\n",
              "Break and Enter                                     868\n",
              "Sexual Related Crime                                839\n",
              "Sexual Related Crimes & Crimes Against Children     793\n",
              "Vehicle Related                                     768\n",
              "LLA                                                 586\n",
              "Police Category - Incident                          564\n",
              "Fraud                                               474\n",
              "Mental Health                                       239\n",
              "Homicide                                             73\n",
              "Crimes against Children                              69\n",
              "Name: Occurrence_Category, dtype: int64"
            ]
          },
          "metadata": {},
          "execution_count": 21
        }
      ]
    },
    {
      "cell_type": "code",
      "source": [
        "# Lets assign 99999 to misisng arrest values and others as 0\n",
        "df = df.fillna(value = {\n",
        "    'ArrestID': 99999,\n",
        "    'SearchReason_CauseInjury': 0,\n",
        "    'SearchReason_AssistEscape': 0,\n",
        "    'SearchReason_PossessWeapons': 0,\n",
        "    'SearchReason_PossessEvidence':0,\n",
        "    'ItemsFound': 0\n",
        "    })\n",
        "df['Occurrence_Category'].fillna(value='Other Offence', inplace=True)\n",
        "# Renaming values that are similar\n",
        "df[\"Occurrence_Category\"] = df[\"Occurrence_Category\"].apply(lambda x: x.replace(\"Break and Enter\", \"Break & Enter\"))\n",
        "df[\"Occurrence_Category\"] = df[\"Occurrence_Category\"].apply(lambda x: x.replace(\"Other Statute & Other Incident Type\", \"Other Offence\"))\n",
        "df[\"Occurrence_Category\"] = df[\"Occurrence_Category\"].apply(lambda x: x.replace(\"Other Statute\", \"Other Offence\"))\n",
        "df[\"Occurrence_Category\"] = df[\"Occurrence_Category\"].apply(lambda x: x.replace(\"Harassment/Threatening\", \"Harassment & Threatening\"))\n",
        "df[\"Occurrence_Category\"] = df[\"Occurrence_Category\"].apply(lambda x: x.replace(\"FTA/FTC, Compliance Check & Parollee\", \"FTA/FTC/Compliance Check/Parollee\"))\n",
        "\n",
        "\n",
        "\n"
      ],
      "metadata": {
        "id": "cIve9TptXskJ"
      },
      "execution_count": 22,
      "outputs": []
    },
    {
      "cell_type": "code",
      "source": [
        "df['Occurrence_Category'].value_counts()"
      ],
      "metadata": {
        "colab": {
          "base_uri": "https://localhost:8080/"
        },
        "id": "Unpn8kU1X6L4",
        "outputId": "797d2809-fcd4-421c-dd54-6a8653dfd37c"
      },
      "execution_count": 23,
      "outputs": [
        {
          "output_type": "execute_result",
          "data": {
            "text/plain": [
              "FTA/FTC/Compliance Check/Parollee                  8123\n",
              "Assault                                            7726\n",
              "Assault & Other crimes against persons             7235\n",
              "Other Offence                                      5425\n",
              "Robbery & Theft                                    4580\n",
              "Warrant                                            4385\n",
              "Police Category - Administrative                   3888\n",
              "Robbery/Theft                                      3754\n",
              "Drug Related                                       2751\n",
              "Harassment & Threatening                           2614\n",
              "Vehicle Related (inc. Impaired)                    1977\n",
              "Break & Enter                                      1784\n",
              "Mischief & Fraud                                   1732\n",
              "Impaired                                           1362\n",
              "Mischief                                           1322\n",
              "Weapons                                            1108\n",
              "Weapons & Homicide                                 1105\n",
              "Sexual Related Crime                                839\n",
              "Sexual Related Crimes & Crimes Against Children     793\n",
              "Vehicle Related                                     768\n",
              "LLA                                                 586\n",
              "Police Category - Incident                          564\n",
              "Fraud                                               474\n",
              "Mental Health                                       239\n",
              "Homicide                                             73\n",
              "Crimes against Children                              69\n",
              "Name: Occurrence_Category, dtype: int64"
            ]
          },
          "metadata": {},
          "execution_count": 23
        }
      ]
    },
    {
      "cell_type": "code",
      "source": [
        "df = df.dropna()"
      ],
      "metadata": {
        "id": "rzBjIvqRX8f4"
      },
      "execution_count": 24,
      "outputs": []
    },
    {
      "cell_type": "code",
      "source": [
        "df.isnull().sum()"
      ],
      "metadata": {
        "colab": {
          "base_uri": "https://localhost:8080/"
        },
        "id": "kWVdfUDZX-FT",
        "outputId": "4df07693-877b-4dbd-fdac-b991546d2bbe"
      },
      "execution_count": 25,
      "outputs": [
        {
          "output_type": "execute_result",
          "data": {
            "text/plain": [
              "Arrest_Year                        0\n",
              "Arrest_Month                       0\n",
              "EventID                            0\n",
              "ArrestID                           0\n",
              "PersonID                           0\n",
              "Perceived_Race                     0\n",
              "Sex                                0\n",
              "Age_group__at_arrest_              0\n",
              "Youth_at_arrest__under_18_years    0\n",
              "ArrestLocDiv                       0\n",
              "StripSearch                        0\n",
              "Booked                             0\n",
              "Occurrence_Category                0\n",
              "Actions_at_arrest___Concealed_i    0\n",
              "Actions_at_arrest___Combative__    0\n",
              "Actions_at_arrest___Resisted__d    0\n",
              "Actions_at_arrest___Mental_inst    0\n",
              "Actions_at_arrest___Assaulted_o    0\n",
              "Actions_at_arrest___Cooperative    0\n",
              "SearchReason_CauseInjury           0\n",
              "SearchReason_AssistEscape          0\n",
              "SearchReason_PossessWeapons        0\n",
              "SearchReason_PossessEvidence       0\n",
              "ItemsFound                         0\n",
              "ObjectId                           0\n",
              "dtype: int64"
            ]
          },
          "metadata": {},
          "execution_count": 25
        }
      ]
    },
    {
      "cell_type": "code",
      "source": [
        "df['Age_group__at_arrest_'].value_counts()"
      ],
      "metadata": {
        "colab": {
          "base_uri": "https://localhost:8080/"
        },
        "id": "-mY5mkv0X_5g",
        "outputId": "3963b61c-88f1-462e-d081-9aa11a1b8b15"
      },
      "execution_count": 26,
      "outputs": [
        {
          "output_type": "execute_result",
          "data": {
            "text/plain": [
              "Aged 25 to 34 years          20948\n",
              "Aged 35 to 44 years          16241\n",
              "Aged 18 to 24 years          10040\n",
              "Aged 45 to 54 years           9065\n",
              "Aged 55 to 64 years           4590\n",
              "Aged 17 years and younger     1681\n",
              "Aged 17 years and under       1361\n",
              "Aged 65 years and older        698\n",
              "Aged 65 and older              624\n",
              "Name: Age_group__at_arrest_, dtype: int64"
            ]
          },
          "metadata": {},
          "execution_count": 26
        }
      ]
    },
    {
      "cell_type": "code",
      "source": [
        "# Updating similar values and renaming categories for easy visualization\n",
        "df[\"Age_group__at_arrest_\"] = df[\"Age_group__at_arrest_\"].apply(lambda x: x.replace(\"Aged 17 years and younger\", \"Under 17\"))\n",
        "df[\"Age_group__at_arrest_\"] = df[\"Age_group__at_arrest_\"].apply(lambda x: x.replace(\"Aged 17 years and under\", \"Under 17\"))\n",
        "df[\"Age_group__at_arrest_\"] = df[\"Age_group__at_arrest_\"].apply(lambda x: x.replace(\"Aged 65 years and older\", \"Over 65\"))\n",
        "df[\"Age_group__at_arrest_\"] = df[\"Age_group__at_arrest_\"].apply(lambda x: x.replace(\"Aged 65 and older\", \"Over 65\"))\n",
        "df[\"Age_group__at_arrest_\"] = df[\"Age_group__at_arrest_\"].apply(lambda x: x.replace(\"Over65\", \"Over 65\"))\n",
        "df[\"Age_group__at_arrest_\"] = df[\"Age_group__at_arrest_\"].apply(lambda x: x.replace(\"Aged 25 to 34 years\", \"Aged 25-34\"))\n",
        "df[\"Age_group__at_arrest_\"] = df[\"Age_group__at_arrest_\"].apply(lambda x: x.replace(\"Aged 35 to 44 years\", \"Aged 35-44\"))\n",
        "df[\"Age_group__at_arrest_\"] = df[\"Age_group__at_arrest_\"].apply(lambda x: x.replace(\"Aged 18 to 24 years\", \"Aged 18-24\"))\n",
        "df[\"Age_group__at_arrest_\"] = df[\"Age_group__at_arrest_\"].apply(lambda x: x.replace(\"Aged 45 to 54 years\", \"Aged 45-54\"))\n",
        "df[\"Age_group__at_arrest_\"] = df[\"Age_group__at_arrest_\"].apply(lambda x: x.replace(\"Aged 55 to 64 years\", \"Aged 55-64\"))\n",
        "\n",
        "\n",
        "df[\"Aggression_Level\"] = df['Actions_at_arrest___Combative__'] + df['Actions_at_arrest___Assaulted_o']\n"
      ],
      "metadata": {
        "id": "dqmUHgL5YByz"
      },
      "execution_count": 27,
      "outputs": []
    },
    {
      "cell_type": "code",
      "source": [
        "df['Age_group__at_arrest_'].value_counts()"
      ],
      "metadata": {
        "colab": {
          "base_uri": "https://localhost:8080/"
        },
        "id": "dh5naN6mYDFw",
        "outputId": "6a0620da-66bf-4137-88bb-1ef04938f52d"
      },
      "execution_count": 28,
      "outputs": [
        {
          "output_type": "execute_result",
          "data": {
            "text/plain": [
              "Aged 25-34    20948\n",
              "Aged 35-44    16241\n",
              "Aged 18-24    10040\n",
              "Aged 45-54     9065\n",
              "Aged 55-64     4590\n",
              "Under 17       3042\n",
              "Over 65        1322\n",
              "Name: Age_group__at_arrest_, dtype: int64"
            ]
          },
          "metadata": {},
          "execution_count": 28
        }
      ]
    },
    {
      "cell_type": "code",
      "source": [
        "# Creating subset for strip searchs as we focus on Race, Sex, Age group and see data for strip searchs and Items found\n",
        "stripSearchs = df.groupby(['Perceived_Race','Sex','Age_group__at_arrest_'])['StripSearch','ItemsFound', 'Booked'].sum().reset_index()\n",
        "# Removing Unkown Sex\n",
        "stripSearchs.drop(stripSearchs.loc[df['Sex']=='U'].index, inplace=True)\n",
        "stripSearchs.head()\n"
      ],
      "metadata": {
        "colab": {
          "base_uri": "https://localhost:8080/",
          "height": 262
        },
        "id": "DxCQBansYEvZ",
        "outputId": "ff053dd1-2b64-4818-88f2-34b73f935a6f"
      },
      "execution_count": 29,
      "outputs": [
        {
          "output_type": "stream",
          "name": "stderr",
          "text": [
            "<ipython-input-29-2ab096cb26dc>:2: FutureWarning: Indexing with multiple keys (implicitly converted to a tuple of keys) will be deprecated, use a list instead.\n",
            "  stripSearchs = df.groupby(['Perceived_Race','Sex','Age_group__at_arrest_'])['StripSearch','ItemsFound', 'Booked'].sum().reset_index()\n"
          ]
        },
        {
          "output_type": "execute_result",
          "data": {
            "text/plain": [
              "  Perceived_Race Sex Age_group__at_arrest_  StripSearch  ItemsFound  Booked\n",
              "0          Black   F            Aged 18-24           83        41.0     319\n",
              "1          Black   F            Aged 25-34           85        29.0     496\n",
              "2          Black   F            Aged 35-44           42        20.0     267\n",
              "3          Black   F            Aged 45-54           31        15.0     119\n",
              "4          Black   F            Aged 55-64            2         2.0      25"
            ],
            "text/html": [
              "\n",
              "  <div id=\"df-7c40263a-6b6e-46b7-a7a5-92dc8d2f6fe3\">\n",
              "    <div class=\"colab-df-container\">\n",
              "      <div>\n",
              "<style scoped>\n",
              "    .dataframe tbody tr th:only-of-type {\n",
              "        vertical-align: middle;\n",
              "    }\n",
              "\n",
              "    .dataframe tbody tr th {\n",
              "        vertical-align: top;\n",
              "    }\n",
              "\n",
              "    .dataframe thead th {\n",
              "        text-align: right;\n",
              "    }\n",
              "</style>\n",
              "<table border=\"1\" class=\"dataframe\">\n",
              "  <thead>\n",
              "    <tr style=\"text-align: right;\">\n",
              "      <th></th>\n",
              "      <th>Perceived_Race</th>\n",
              "      <th>Sex</th>\n",
              "      <th>Age_group__at_arrest_</th>\n",
              "      <th>StripSearch</th>\n",
              "      <th>ItemsFound</th>\n",
              "      <th>Booked</th>\n",
              "    </tr>\n",
              "  </thead>\n",
              "  <tbody>\n",
              "    <tr>\n",
              "      <th>0</th>\n",
              "      <td>Black</td>\n",
              "      <td>F</td>\n",
              "      <td>Aged 18-24</td>\n",
              "      <td>83</td>\n",
              "      <td>41.0</td>\n",
              "      <td>319</td>\n",
              "    </tr>\n",
              "    <tr>\n",
              "      <th>1</th>\n",
              "      <td>Black</td>\n",
              "      <td>F</td>\n",
              "      <td>Aged 25-34</td>\n",
              "      <td>85</td>\n",
              "      <td>29.0</td>\n",
              "      <td>496</td>\n",
              "    </tr>\n",
              "    <tr>\n",
              "      <th>2</th>\n",
              "      <td>Black</td>\n",
              "      <td>F</td>\n",
              "      <td>Aged 35-44</td>\n",
              "      <td>42</td>\n",
              "      <td>20.0</td>\n",
              "      <td>267</td>\n",
              "    </tr>\n",
              "    <tr>\n",
              "      <th>3</th>\n",
              "      <td>Black</td>\n",
              "      <td>F</td>\n",
              "      <td>Aged 45-54</td>\n",
              "      <td>31</td>\n",
              "      <td>15.0</td>\n",
              "      <td>119</td>\n",
              "    </tr>\n",
              "    <tr>\n",
              "      <th>4</th>\n",
              "      <td>Black</td>\n",
              "      <td>F</td>\n",
              "      <td>Aged 55-64</td>\n",
              "      <td>2</td>\n",
              "      <td>2.0</td>\n",
              "      <td>25</td>\n",
              "    </tr>\n",
              "  </tbody>\n",
              "</table>\n",
              "</div>\n",
              "      <button class=\"colab-df-convert\" onclick=\"convertToInteractive('df-7c40263a-6b6e-46b7-a7a5-92dc8d2f6fe3')\"\n",
              "              title=\"Convert this dataframe to an interactive table.\"\n",
              "              style=\"display:none;\">\n",
              "        \n",
              "  <svg xmlns=\"http://www.w3.org/2000/svg\" height=\"24px\"viewBox=\"0 0 24 24\"\n",
              "       width=\"24px\">\n",
              "    <path d=\"M0 0h24v24H0V0z\" fill=\"none\"/>\n",
              "    <path d=\"M18.56 5.44l.94 2.06.94-2.06 2.06-.94-2.06-.94-.94-2.06-.94 2.06-2.06.94zm-11 1L8.5 8.5l.94-2.06 2.06-.94-2.06-.94L8.5 2.5l-.94 2.06-2.06.94zm10 10l.94 2.06.94-2.06 2.06-.94-2.06-.94-.94-2.06-.94 2.06-2.06.94z\"/><path d=\"M17.41 7.96l-1.37-1.37c-.4-.4-.92-.59-1.43-.59-.52 0-1.04.2-1.43.59L10.3 9.45l-7.72 7.72c-.78.78-.78 2.05 0 2.83L4 21.41c.39.39.9.59 1.41.59.51 0 1.02-.2 1.41-.59l7.78-7.78 2.81-2.81c.8-.78.8-2.07 0-2.86zM5.41 20L4 18.59l7.72-7.72 1.47 1.35L5.41 20z\"/>\n",
              "  </svg>\n",
              "      </button>\n",
              "      \n",
              "  <style>\n",
              "    .colab-df-container {\n",
              "      display:flex;\n",
              "      flex-wrap:wrap;\n",
              "      gap: 12px;\n",
              "    }\n",
              "\n",
              "    .colab-df-convert {\n",
              "      background-color: #E8F0FE;\n",
              "      border: none;\n",
              "      border-radius: 50%;\n",
              "      cursor: pointer;\n",
              "      display: none;\n",
              "      fill: #1967D2;\n",
              "      height: 32px;\n",
              "      padding: 0 0 0 0;\n",
              "      width: 32px;\n",
              "    }\n",
              "\n",
              "    .colab-df-convert:hover {\n",
              "      background-color: #E2EBFA;\n",
              "      box-shadow: 0px 1px 2px rgba(60, 64, 67, 0.3), 0px 1px 3px 1px rgba(60, 64, 67, 0.15);\n",
              "      fill: #174EA6;\n",
              "    }\n",
              "\n",
              "    [theme=dark] .colab-df-convert {\n",
              "      background-color: #3B4455;\n",
              "      fill: #D2E3FC;\n",
              "    }\n",
              "\n",
              "    [theme=dark] .colab-df-convert:hover {\n",
              "      background-color: #434B5C;\n",
              "      box-shadow: 0px 1px 3px 1px rgba(0, 0, 0, 0.15);\n",
              "      filter: drop-shadow(0px 1px 2px rgba(0, 0, 0, 0.3));\n",
              "      fill: #FFFFFF;\n",
              "    }\n",
              "  </style>\n",
              "\n",
              "      <script>\n",
              "        const buttonEl =\n",
              "          document.querySelector('#df-7c40263a-6b6e-46b7-a7a5-92dc8d2f6fe3 button.colab-df-convert');\n",
              "        buttonEl.style.display =\n",
              "          google.colab.kernel.accessAllowed ? 'block' : 'none';\n",
              "\n",
              "        async function convertToInteractive(key) {\n",
              "          const element = document.querySelector('#df-7c40263a-6b6e-46b7-a7a5-92dc8d2f6fe3');\n",
              "          const dataTable =\n",
              "            await google.colab.kernel.invokeFunction('convertToInteractive',\n",
              "                                                     [key], {});\n",
              "          if (!dataTable) return;\n",
              "\n",
              "          const docLinkHtml = 'Like what you see? Visit the ' +\n",
              "            '<a target=\"_blank\" href=https://colab.research.google.com/notebooks/data_table.ipynb>data table notebook</a>'\n",
              "            + ' to learn more about interactive tables.';\n",
              "          element.innerHTML = '';\n",
              "          dataTable['output_type'] = 'display_data';\n",
              "          await google.colab.output.renderOutput(dataTable, element);\n",
              "          const docLink = document.createElement('div');\n",
              "          docLink.innerHTML = docLinkHtml;\n",
              "          element.appendChild(docLink);\n",
              "        }\n",
              "      </script>\n",
              "    </div>\n",
              "  </div>\n",
              "  "
            ]
          },
          "metadata": {},
          "execution_count": 29
        }
      ]
    },
    {
      "cell_type": "code",
      "source": [
        "ax = sns.barplot(data=stripSearchs, x=\"Age_group__at_arrest_\", y=\"StripSearch\", hue=\"Sex\")\n",
        "ax.set_xticklabels(ax.get_xticklabels(), rotation=40, ha=\"right\")\n",
        "plt.tight_layout()\n",
        "plt.show()"
      ],
      "metadata": {
        "colab": {
          "base_uri": "https://localhost:8080/",
          "height": 297
        },
        "id": "kgLrxGY3YHJk",
        "outputId": "6b15b91b-c5c9-4fbc-e0dc-33bff8f8ae80"
      },
      "execution_count": 30,
      "outputs": [
        {
          "output_type": "display_data",
          "data": {
            "text/plain": [
              "<Figure size 432x288 with 1 Axes>"
            ],
            "image/png": "[encoded data removed]"
          },
          "metadata": {
            "needs_background": "light"
          }
        }
      ]
    },
    {
      "cell_type": "code",
      "source": [
        "sns.set(rc={'figure.figsize':(15,10)})\n",
        "sns.boxplot(data=stripSearchs, x=\"StripSearch\", y=\"Perceived_Race\", hue=\"Sex\")\n",
        "sns.stripplot(x='StripSearch', y='Perceived_Race', data=stripSearchs)"
      ],
      "metadata": {
        "colab": {
          "base_uri": "https://localhost:8080/",
          "height": 629
        },
        "id": "yoxXjmpcYI3n",
        "outputId": "6cc0f2c6-09bd-4ada-e5ca-824b3e7c4c01"
      },
      "execution_count": 31,
      "outputs": [
        {
          "output_type": "execute_result",
          "data": {
            "text/plain": [
              "<AxesSubplot:xlabel='StripSearch', ylabel='Perceived_Race'>"
            ]
          },
          "metadata": {},
          "execution_count": 31
        },
        {
          "output_type": "display_data",
          "data": {
            "text/plain": [
              "<Figure size 1080x720 with 1 Axes>"
            ],
            "image/png": "[encoded data removed]"
          },
          "metadata": {}
        }
      ]
    },
    {
      "cell_type": "code",
      "source": [
        "sns.boxplot(data=stripSearchs, x=\"Booked\", y=\"Perceived_Race\", hue=\"Sex\")\n",
        "sns.stripplot(x='Booked', y='Perceived_Race', data=stripSearchs)"
      ],
      "metadata": {
        "colab": {
          "base_uri": "https://localhost:8080/",
          "height": 629
        },
        "id": "Wo2knB8MYKmL",
        "outputId": "49cf13f2-b699-4436-b9f6-6ead827590b9"
      },
      "execution_count": 32,
      "outputs": [
        {
          "output_type": "execute_result",
          "data": {
            "text/plain": [
              "<AxesSubplot:xlabel='Booked', ylabel='Perceived_Race'>"
            ]
          },
          "metadata": {},
          "execution_count": 32
        },
        {
          "output_type": "display_data",
          "data": {
            "text/plain": [
              "<Figure size 1080x720 with 1 Axes>"
            ],
            "image/png": "[encoded data removed]"
          },
          "metadata": {}
        }
      ]
    },
    {
      "cell_type": "code",
      "source": [
        "sns.lineplot(data=stripSearchs, x=\"Perceived_Race\", y=\"StripSearch\", hue=\"Sex\", style=\"Sex\")"
      ],
      "metadata": {
        "colab": {
          "base_uri": "https://localhost:8080/",
          "height": 629
        },
        "id": "s9cQ7Qi5YMPe",
        "outputId": "1425eb21-6b6f-4173-ed7f-d22c0ca83634"
      },
      "execution_count": 33,
      "outputs": [
        {
          "output_type": "execute_result",
          "data": {
            "text/plain": [
              "<AxesSubplot:xlabel='Perceived_Race', ylabel='StripSearch'>"
            ]
          },
          "metadata": {},
          "execution_count": 33
        },
        {
          "output_type": "display_data",
          "data": {
            "text/plain": [
              "<Figure size 1080x720 with 1 Axes>"
            ],
            "image/png": "[encoded data removed]"
          },
          "metadata": {}
        }
      ]
    },
    {
      "cell_type": "code",
      "source": [
        "plt.scatter(stripSearchs['Booked'], stripSearchs['StripSearch'], color='red')\n",
        "\n",
        "plt.xlabel(\"Arrests\")\n",
        "plt.ylabel(\"Strip Searched\")\n",
        "plt.title(\"Strip Searched vs Arrests\")\n",
        "plt.show()"
      ],
      "metadata": {
        "colab": {
          "base_uri": "https://localhost:8080/",
          "height": 627
        },
        "id": "tzltWYtvYOyE",
        "outputId": "18174230-93cf-4594-9e33-06201b851901"
      },
      "execution_count": 34,
      "outputs": [
        {
          "output_type": "display_data",
          "data": {
            "text/plain": [
              "<Figure size 1080x720 with 1 Axes>"
            ],
            "image/png": "[encoded data removed]"
          },
          "metadata": {}
        }
      ]
    },
    {
      "cell_type": "code",
      "source": [
        "#\n",
        "stripRaceSexIntModel = ols('StripSearch ~ C(Sex) + C(Perceived_Race) + C(Sex):C(Perceived_Race)', data = stripSearchs).fit()\n",
        "sm.stats.anova_lm(stripRaceSexIntModel, typ=2)"
      ],
      "metadata": {
        "colab": {
          "base_uri": "https://localhost:8080/",
          "height": 266
        },
        "id": "5hs4zJjOYQbM",
        "outputId": "393ab704-3b3d-4196-d68b-9b7a39829c0b"
      },
      "execution_count": 35,
      "outputs": [
        {
          "output_type": "stream",
          "name": "stderr",
          "text": [
            "/usr/local/lib/python3.8/dist-packages/statsmodels/base/model.py:1832: ValueWarning: covariance of constraints does not have full rank. The number of constraints is 7, but rank is 3\n",
            "  warnings.warn('covariance of constraints does not have full '\n",
            "/usr/local/lib/python3.8/dist-packages/statsmodels/base/model.py:1832: ValueWarning: covariance of constraints does not have full rank. The number of constraints is 14, but rank is 10\n",
            "  warnings.warn('covariance of constraints does not have full '\n"
          ]
        },
        {
          "output_type": "execute_result",
          "data": {
            "text/plain": [
              "                                sum_sq     df         F    PR(>F)\n",
              "C(Sex)                    2.951778e+05    2.0  9.568373  0.000158\n",
              "C(Perceived_Race)         1.072376e+06    7.0  9.931923  0.000009\n",
              "C(Sex):C(Perceived_Race)  6.128018e+05   14.0  2.837765  0.003809\n",
              "Residual                  1.542466e+06  100.0       NaN       NaN"
            ],
            "text/html": [
              "\n",
              "  <div id=\"df-97cbeaed-bda8-46fa-a544-32a258b06d50\">\n",
              "    <div class=\"colab-df-container\">\n",
              "      <div>\n",
              "<style scoped>\n",
              "    .dataframe tbody tr th:only-of-type {\n",
              "        vertical-align: middle;\n",
              "    }\n",
              "\n",
              "    .dataframe tbody tr th {\n",
              "        vertical-align: top;\n",
              "    }\n",
              "\n",
              "    .dataframe thead th {\n",
              "        text-align: right;\n",
              "    }\n",
              "</style>\n",
              "<table border=\"1\" class=\"dataframe\">\n",
              "  <thead>\n",
              "    <tr style=\"text-align: right;\">\n",
              "      <th></th>\n",
              "      <th>sum_sq</th>\n",
              "      <th>df</th>\n",
              "      <th>F</th>\n",
              "      <th>PR(&gt;F)</th>\n",
              "    </tr>\n",
              "  </thead>\n",
              "  <tbody>\n",
              "    <tr>\n",
              "      <th>C(Sex)</th>\n",
              "      <td>2.951778e+05</td>\n",
              "      <td>2.0</td>\n",
              "      <td>9.568373</td>\n",
              "      <td>0.000158</td>\n",
              "    </tr>\n",
              "    <tr>\n",
              "      <th>C(Perceived_Race)</th>\n",
              "      <td>1.072376e+06</td>\n",
              "      <td>7.0</td>\n",
              "      <td>9.931923</td>\n",
              "      <td>0.000009</td>\n",
              "    </tr>\n",
              "    <tr>\n",
              "      <th>C(Sex):C(Perceived_Race)</th>\n",
              "      <td>6.128018e+05</td>\n",
              "      <td>14.0</td>\n",
              "      <td>2.837765</td>\n",
              "      <td>0.003809</td>\n",
              "    </tr>\n",
              "    <tr>\n",
              "      <th>Residual</th>\n",
              "      <td>1.542466e+06</td>\n",
              "      <td>100.0</td>\n",
              "      <td>NaN</td>\n",
              "      <td>NaN</td>\n",
              "    </tr>\n",
              "  </tbody>\n",
              "</table>\n",
              "</div>\n",
              "      <button class=\"colab-df-convert\" onclick=\"convertToInteractive('df-97cbeaed-bda8-46fa-a544-32a258b06d50')\"\n",
              "              title=\"Convert this dataframe to an interactive table.\"\n",
              "              style=\"display:none;\">\n",
              "        \n",
              "  <svg xmlns=\"http://www.w3.org/2000/svg\" height=\"24px\"viewBox=\"0 0 24 24\"\n",
              "       width=\"24px\">\n",
              "    <path d=\"M0 0h24v24H0V0z\" fill=\"none\"/>\n",
              "    <path d=\"M18.56 5.44l.94 2.06.94-2.06 2.06-.94-2.06-.94-.94-2.06-.94 2.06-2.06.94zm-11 1L8.5 8.5l.94-2.06 2.06-.94-2.06-.94L8.5 2.5l-.94 2.06-2.06.94zm10 10l.94 2.06.94-2.06 2.06-.94-2.06-.94-.94-2.06-.94 2.06-2.06.94z\"/><path d=\"M17.41 7.96l-1.37-1.37c-.4-.4-.92-.59-1.43-.59-.52 0-1.04.2-1.43.59L10.3 9.45l-7.72 7.72c-.78.78-.78 2.05 0 2.83L4 21.41c.39.39.9.59 1.41.59.51 0 1.02-.2 1.41-.59l7.78-7.78 2.81-2.81c.8-.78.8-2.07 0-2.86zM5.41 20L4 18.59l7.72-7.72 1.47 1.35L5.41 20z\"/>\n",
              "  </svg>\n",
              "      </button>\n",
              "      \n",
              "  <style>\n",
              "    .colab-df-container {\n",
              "      display:flex;\n",
              "      flex-wrap:wrap;\n",
              "      gap: 12px;\n",
              "    }\n",
              "\n",
              "    .colab-df-convert {\n",
              "      background-color: #E8F0FE;\n",
              "      border: none;\n",
              "      border-radius: 50%;\n",
              "      cursor: pointer;\n",
              "      display: none;\n",
              "      fill: #1967D2;\n",
              "      height: 32px;\n",
              "      padding: 0 0 0 0;\n",
              "      width: 32px;\n",
              "    }\n",
              "\n",
              "    .colab-df-convert:hover {\n",
              "      background-color: #E2EBFA;\n",
              "      box-shadow: 0px 1px 2px rgba(60, 64, 67, 0.3), 0px 1px 3px 1px rgba(60, 64, 67, 0.15);\n",
              "      fill: #174EA6;\n",
              "    }\n",
              "\n",
              "    [theme=dark] .colab-df-convert {\n",
              "      background-color: #3B4455;\n",
              "      fill: #D2E3FC;\n",
              "    }\n",
              "\n",
              "    [theme=dark] .colab-df-convert:hover {\n",
              "      background-color: #434B5C;\n",
              "      box-shadow: 0px 1px 3px 1px rgba(0, 0, 0, 0.15);\n",
              "      filter: drop-shadow(0px 1px 2px rgba(0, 0, 0, 0.3));\n",
              "      fill: #FFFFFF;\n",
              "    }\n",
              "  </style>\n",
              "\n",
              "      <script>\n",
              "        const buttonEl =\n",
              "          document.querySelector('#df-97cbeaed-bda8-46fa-a544-32a258b06d50 button.colab-df-convert');\n",
              "        buttonEl.style.display =\n",
              "          google.colab.kernel.accessAllowed ? 'block' : 'none';\n",
              "\n",
              "        async function convertToInteractive(key) {\n",
              "          const element = document.querySelector('#df-97cbeaed-bda8-46fa-a544-32a258b06d50');\n",
              "          const dataTable =\n",
              "            await google.colab.kernel.invokeFunction('convertToInteractive',\n",
              "                                                     [key], {});\n",
              "          if (!dataTable) return;\n",
              "\n",
              "          const docLinkHtml = 'Like what you see? Visit the ' +\n",
              "            '<a target=\"_blank\" href=https://colab.research.google.com/notebooks/data_table.ipynb>data table notebook</a>'\n",
              "            + ' to learn more about interactive tables.';\n",
              "          element.innerHTML = '';\n",
              "          dataTable['output_type'] = 'display_data';\n",
              "          await google.colab.output.renderOutput(dataTable, element);\n",
              "          const docLink = document.createElement('div');\n",
              "          docLink.innerHTML = docLinkHtml;\n",
              "          element.appendChild(docLink);\n",
              "        }\n",
              "      </script>\n",
              "    </div>\n",
              "  </div>\n",
              "  "
            ]
          },
          "metadata": {},
          "execution_count": 35
        }
      ]
    },
    {
      "cell_type": "code",
      "source": [
        "#Plot an interaction plot\n",
        "fig = interaction_plot(x = stripSearchs['Perceived_Race'], trace = stripSearchs['Sex'], response = stripSearchs['StripSearch'])\n",
        "plt.xticks(rotation=45)\n",
        "plt.show()"
      ],
      "metadata": {
        "colab": {
          "base_uri": "https://localhost:8080/",
          "height": 691
        },
        "id": "eDM-MFaaYUwl",
        "outputId": "01b32807-f84e-4df3-ec20-9fe6f396ad89"
      },
      "execution_count": 36,
      "outputs": [
        {
          "output_type": "display_data",
          "data": {
            "text/plain": [
              "<Figure size 1080x720 with 1 Axes>"
            ],
            "image/png": "[encoded data removed]"
          },
          "metadata": {}
        }
      ]
    },
    {
      "cell_type": "code",
      "source": [
        "#Two-way ANOVA without interaction\n",
        "stripRaceSexModel = ols('StripSearch ~ C(Sex) + C(Perceived_Race)', data = stripSearchs).fit()\n",
        "sm.stats.anova_lm(stripRaceSexModel, typ=2)"
      ],
      "metadata": {
        "colab": {
          "base_uri": "https://localhost:8080/",
          "height": 143
        },
        "id": "DeLswaBsYZVy",
        "outputId": "ef09d568-576f-4aa0-989c-d89e387e8422"
      },
      "execution_count": 37,
      "outputs": [
        {
          "output_type": "execute_result",
          "data": {
            "text/plain": [
              "                         sum_sq     df         F    PR(>F)\n",
              "C(Sex)             3.359779e+05    2.0  9.408337  0.000170\n",
              "C(Perceived_Race)  7.608431e+05    7.0  6.087364  0.000005\n",
              "Residual           1.946231e+06  109.0       NaN       NaN"
            ],
            "text/html": [
              "\n",
              "  <div id=\"df-e6c2c27c-fc7b-48c7-aab9-c24d76070add\">\n",
              "    <div class=\"colab-df-container\">\n",
              "      <div>\n",
              "<style scoped>\n",
              "    .dataframe tbody tr th:only-of-type {\n",
              "        vertical-align: middle;\n",
              "    }\n",
              "\n",
              "    .dataframe tbody tr th {\n",
              "        vertical-align: top;\n",
              "    }\n",
              "\n",
              "    .dataframe thead th {\n",
              "        text-align: right;\n",
              "    }\n",
              "</style>\n",
              "<table border=\"1\" class=\"dataframe\">\n",
              "  <thead>\n",
              "    <tr style=\"text-align: right;\">\n",
              "      <th></th>\n",
              "      <th>sum_sq</th>\n",
              "      <th>df</th>\n",
              "      <th>F</th>\n",
              "      <th>PR(&gt;F)</th>\n",
              "    </tr>\n",
              "  </thead>\n",
              "  <tbody>\n",
              "    <tr>\n",
              "      <th>C(Sex)</th>\n",
              "      <td>3.359779e+05</td>\n",
              "      <td>2.0</td>\n",
              "      <td>9.408337</td>\n",
              "      <td>0.000170</td>\n",
              "    </tr>\n",
              "    <tr>\n",
              "      <th>C(Perceived_Race)</th>\n",
              "      <td>7.608431e+05</td>\n",
              "      <td>7.0</td>\n",
              "      <td>6.087364</td>\n",
              "      <td>0.000005</td>\n",
              "    </tr>\n",
              "    <tr>\n",
              "      <th>Residual</th>\n",
              "      <td>1.946231e+06</td>\n",
              "      <td>109.0</td>\n",
              "      <td>NaN</td>\n",
              "      <td>NaN</td>\n",
              "    </tr>\n",
              "  </tbody>\n",
              "</table>\n",
              "</div>\n",
              "      <button class=\"colab-df-convert\" onclick=\"convertToInteractive('df-e6c2c27c-fc7b-48c7-aab9-c24d76070add')\"\n",
              "              title=\"Convert this dataframe to an interactive table.\"\n",
              "              style=\"display:none;\">\n",
              "        \n",
              "  <svg xmlns=\"http://www.w3.org/2000/svg\" height=\"24px\"viewBox=\"0 0 24 24\"\n",
              "       width=\"24px\">\n",
              "    <path d=\"M0 0h24v24H0V0z\" fill=\"none\"/>\n",
              "    <path d=\"M18.56 5.44l.94 2.06.94-2.06 2.06-.94-2.06-.94-.94-2.06-.94 2.06-2.06.94zm-11 1L8.5 8.5l.94-2.06 2.06-.94-2.06-.94L8.5 2.5l-.94 2.06-2.06.94zm10 10l.94 2.06.94-2.06 2.06-.94-2.06-.94-.94-2.06-.94 2.06-2.06.94z\"/><path d=\"M17.41 7.96l-1.37-1.37c-.4-.4-.92-.59-1.43-.59-.52 0-1.04.2-1.43.59L10.3 9.45l-7.72 7.72c-.78.78-.78 2.05 0 2.83L4 21.41c.39.39.9.59 1.41.59.51 0 1.02-.2 1.41-.59l7.78-7.78 2.81-2.81c.8-.78.8-2.07 0-2.86zM5.41 20L4 18.59l7.72-7.72 1.47 1.35L5.41 20z\"/>\n",
              "  </svg>\n",
              "      </button>\n",
              "      \n",
              "  <style>\n",
              "    .colab-df-container {\n",
              "      display:flex;\n",
              "      flex-wrap:wrap;\n",
              "      gap: 12px;\n",
              "    }\n",
              "\n",
              "    .colab-df-convert {\n",
              "      background-color: #E8F0FE;\n",
              "      border: none;\n",
              "      border-radius: 50%;\n",
              "      cursor: pointer;\n",
              "      display: none;\n",
              "      fill: #1967D2;\n",
              "      height: 32px;\n",
              "      padding: 0 0 0 0;\n",
              "      width: 32px;\n",
              "    }\n",
              "\n",
              "    .colab-df-convert:hover {\n",
              "      background-color: #E2EBFA;\n",
              "      box-shadow: 0px 1px 2px rgba(60, 64, 67, 0.3), 0px 1px 3px 1px rgba(60, 64, 67, 0.15);\n",
              "      fill: #174EA6;\n",
              "    }\n",
              "\n",
              "    [theme=dark] .colab-df-convert {\n",
              "      background-color: #3B4455;\n",
              "      fill: #D2E3FC;\n",
              "    }\n",
              "\n",
              "    [theme=dark] .colab-df-convert:hover {\n",
              "      background-color: #434B5C;\n",
              "      box-shadow: 0px 1px 3px 1px rgba(0, 0, 0, 0.15);\n",
              "      filter: drop-shadow(0px 1px 2px rgba(0, 0, 0, 0.3));\n",
              "      fill: #FFFFFF;\n",
              "    }\n",
              "  </style>\n",
              "\n",
              "      <script>\n",
              "        const buttonEl =\n",
              "          document.querySelector('#df-e6c2c27c-fc7b-48c7-aab9-c24d76070add button.colab-df-convert');\n",
              "        buttonEl.style.display =\n",
              "          google.colab.kernel.accessAllowed ? 'block' : 'none';\n",
              "\n",
              "        async function convertToInteractive(key) {\n",
              "          const element = document.querySelector('#df-e6c2c27c-fc7b-48c7-aab9-c24d76070add');\n",
              "          const dataTable =\n",
              "            await google.colab.kernel.invokeFunction('convertToInteractive',\n",
              "                                                     [key], {});\n",
              "          if (!dataTable) return;\n",
              "\n",
              "          const docLinkHtml = 'Like what you see? Visit the ' +\n",
              "            '<a target=\"_blank\" href=https://colab.research.google.com/notebooks/data_table.ipynb>data table notebook</a>'\n",
              "            + ' to learn more about interactive tables.';\n",
              "          element.innerHTML = '';\n",
              "          dataTable['output_type'] = 'display_data';\n",
              "          await google.colab.output.renderOutput(dataTable, element);\n",
              "          const docLink = document.createElement('div');\n",
              "          docLink.innerHTML = docLinkHtml;\n",
              "          element.appendChild(docLink);\n",
              "        }\n",
              "      </script>\n",
              "    </div>\n",
              "  </div>\n",
              "  "
            ]
          },
          "metadata": {},
          "execution_count": 37
        }
      ]
    },
    {
      "cell_type": "code",
      "source": [
        "stripSearchs['Sex'] = pd.factorize(stripSearchs['Sex'])[0]\n",
        "stripSearchs"
      ],
      "metadata": {
        "colab": {
          "base_uri": "https://localhost:8080/",
          "height": 424
        },
        "id": "sOTRoBNjYbPc",
        "outputId": "e17871e3-9a50-4872-e03b-41253589c057"
      },
      "execution_count": 39,
      "outputs": [
        {
          "output_type": "execute_result",
          "data": {
            "text/plain": [
              "    Perceived_Race  Sex Age_group__at_arrest_  StripSearch  ItemsFound  Booked\n",
              "0            Black    0            Aged 18-24           83        41.0     319\n",
              "1            Black    0            Aged 25-34           85        29.0     496\n",
              "2            Black    0            Aged 35-44           42        20.0     267\n",
              "3            Black    0            Aged 45-54           31        15.0     119\n",
              "4            Black    0            Aged 55-64            2         2.0      25\n",
              "..             ...  ...                   ...          ...         ...     ...\n",
              "114          White    1               Over 65           14         5.0     229\n",
              "115          White    1              Under 17           46        17.0     238\n",
              "116          White    2            Aged 18-24            0         0.0       0\n",
              "117          White    2            Aged 25-34            0         0.0       1\n",
              "118          White    2            Aged 55-64            0         0.0       0\n",
              "\n",
              "[119 rows x 6 columns]"
            ],
            "text/html": [
              "\n",
              "  <div id=\"df-50d3f3ed-2522-41cc-90c2-39ec7fe1339c\">\n",
              "    <div class=\"colab-df-container\">\n",
              "      <div>\n",
              "<style scoped>\n",
              "    .dataframe tbody tr th:only-of-type {\n",
              "        vertical-align: middle;\n",
              "    }\n",
              "\n",
              "    .dataframe tbody tr th {\n",
              "        vertical-align: top;\n",
              "    }\n",
              "\n",
              "    .dataframe thead th {\n",
              "        text-align: right;\n",
              "    }\n",
              "</style>\n",
              "<table border=\"1\" class=\"dataframe\">\n",
              "  <thead>\n",
              "    <tr style=\"text-align: right;\">\n",
              "      <th></th>\n",
              "      <th>Perceived_Race</th>\n",
              "      <th>Sex</th>\n",
              "      <th>Age_group__at_arrest_</th>\n",
              "      <th>StripSearch</th>\n",
              "      <th>ItemsFound</th>\n",
              "      <th>Booked</th>\n",
              "    </tr>\n",
              "  </thead>\n",
              "  <tbody>\n",
              "    <tr>\n",
              "      <th>0</th>\n",
              "      <td>Black</td>\n",
              "      <td>0</td>\n",
              "      <td>Aged 18-24</td>\n",
              "      <td>83</td>\n",
              "      <td>41.0</td>\n",
              "      <td>319</td>\n",
              "    </tr>\n",
              "    <tr>\n",
              "      <th>1</th>\n",
              "      <td>Black</td>\n",
              "      <td>0</td>\n",
              "      <td>Aged 25-34</td>\n",
              "      <td>85</td>\n",
              "      <td>29.0</td>\n",
              "      <td>496</td>\n",
              "    </tr>\n",
              "    <tr>\n",
              "      <th>2</th>\n",
              "      <td>Black</td>\n",
              "      <td>0</td>\n",
              "      <td>Aged 35-44</td>\n",
              "      <td>42</td>\n",
              "      <td>20.0</td>\n",
              "      <td>267</td>\n",
              "    </tr>\n",
              "    <tr>\n",
              "      <th>3</th>\n",
              "      <td>Black</td>\n",
              "      <td>0</td>\n",
              "      <td>Aged 45-54</td>\n",
              "      <td>31</td>\n",
              "      <td>15.0</td>\n",
              "      <td>119</td>\n",
              "    </tr>\n",
              "    <tr>\n",
              "      <th>4</th>\n",
              "      <td>Black</td>\n",
              "      <td>0</td>\n",
              "      <td>Aged 55-64</td>\n",
              "      <td>2</td>\n",
              "      <td>2.0</td>\n",
              "      <td>25</td>\n",
              "    </tr>\n",
              "    <tr>\n",
              "      <th>...</th>\n",
              "      <td>...</td>\n",
              "      <td>...</td>\n",
              "      <td>...</td>\n",
              "      <td>...</td>\n",
              "      <td>...</td>\n",
              "      <td>...</td>\n",
              "    </tr>\n",
              "    <tr>\n",
              "      <th>114</th>\n",
              "      <td>White</td>\n",
              "      <td>1</td>\n",
              "      <td>Over 65</td>\n",
              "      <td>14</td>\n",
              "      <td>5.0</td>\n",
              "      <td>229</td>\n",
              "    </tr>\n",
              "    <tr>\n",
              "      <th>115</th>\n",
              "      <td>White</td>\n",
              "      <td>1</td>\n",
              "      <td>Under 17</td>\n",
              "      <td>46</td>\n",
              "      <td>17.0</td>\n",
              "      <td>238</td>\n",
              "    </tr>\n",
              "    <tr>\n",
              "      <th>116</th>\n",
              "      <td>White</td>\n",
              "      <td>2</td>\n",
              "      <td>Aged 18-24</td>\n",
              "      <td>0</td>\n",
              "      <td>0.0</td>\n",
              "      <td>0</td>\n",
              "    </tr>\n",
              "    <tr>\n",
              "      <th>117</th>\n",
              "      <td>White</td>\n",
              "      <td>2</td>\n",
              "      <td>Aged 25-34</td>\n",
              "      <td>0</td>\n",
              "      <td>0.0</td>\n",
              "      <td>1</td>\n",
              "    </tr>\n",
              "    <tr>\n",
              "      <th>118</th>\n",
              "      <td>White</td>\n",
              "      <td>2</td>\n",
              "      <td>Aged 55-64</td>\n",
              "      <td>0</td>\n",
              "      <td>0.0</td>\n",
              "      <td>0</td>\n",
              "    </tr>\n",
              "  </tbody>\n",
              "</table>\n",
              "<p>119 rows × 6 columns</p>\n",
              "</div>\n",
              "      <button class=\"colab-df-convert\" onclick=\"convertToInteractive('df-50d3f3ed-2522-41cc-90c2-39ec7fe1339c')\"\n",
              "              title=\"Convert this dataframe to an interactive table.\"\n",
              "              style=\"display:none;\">\n",
              "        \n",
              "  <svg xmlns=\"http://www.w3.org/2000/svg\" height=\"24px\"viewBox=\"0 0 24 24\"\n",
              "       width=\"24px\">\n",
              "    <path d=\"M0 0h24v24H0V0z\" fill=\"none\"/>\n",
              "    <path d=\"M18.56 5.44l.94 2.06.94-2.06 2.06-.94-2.06-.94-.94-2.06-.94 2.06-2.06.94zm-11 1L8.5 8.5l.94-2.06 2.06-.94-2.06-.94L8.5 2.5l-.94 2.06-2.06.94zm10 10l.94 2.06.94-2.06 2.06-.94-2.06-.94-.94-2.06-.94 2.06-2.06.94z\"/><path d=\"M17.41 7.96l-1.37-1.37c-.4-.4-.92-.59-1.43-.59-.52 0-1.04.2-1.43.59L10.3 9.45l-7.72 7.72c-.78.78-.78 2.05 0 2.83L4 21.41c.39.39.9.59 1.41.59.51 0 1.02-.2 1.41-.59l7.78-7.78 2.81-2.81c.8-.78.8-2.07 0-2.86zM5.41 20L4 18.59l7.72-7.72 1.47 1.35L5.41 20z\"/>\n",
              "  </svg>\n",
              "      </button>\n",
              "      \n",
              "  <style>\n",
              "    .colab-df-container {\n",
              "      display:flex;\n",
              "      flex-wrap:wrap;\n",
              "      gap: 12px;\n",
              "    }\n",
              "\n",
              "    .colab-df-convert {\n",
              "      background-color: #E8F0FE;\n",
              "      border: none;\n",
              "      border-radius: 50%;\n",
              "      cursor: pointer;\n",
              "      display: none;\n",
              "      fill: #1967D2;\n",
              "      height: 32px;\n",
              "      padding: 0 0 0 0;\n",
              "      width: 32px;\n",
              "    }\n",
              "\n",
              "    .colab-df-convert:hover {\n",
              "      background-color: #E2EBFA;\n",
              "      box-shadow: 0px 1px 2px rgba(60, 64, 67, 0.3), 0px 1px 3px 1px rgba(60, 64, 67, 0.15);\n",
              "      fill: #174EA6;\n",
              "    }\n",
              "\n",
              "    [theme=dark] .colab-df-convert {\n",
              "      background-color: #3B4455;\n",
              "      fill: #D2E3FC;\n",
              "    }\n",
              "\n",
              "    [theme=dark] .colab-df-convert:hover {\n",
              "      background-color: #434B5C;\n",
              "      box-shadow: 0px 1px 3px 1px rgba(0, 0, 0, 0.15);\n",
              "      filter: drop-shadow(0px 1px 2px rgba(0, 0, 0, 0.3));\n",
              "      fill: #FFFFFF;\n",
              "    }\n",
              "  </style>\n",
              "\n",
              "      <script>\n",
              "        const buttonEl =\n",
              "          document.querySelector('#df-50d3f3ed-2522-41cc-90c2-39ec7fe1339c button.colab-df-convert');\n",
              "        buttonEl.style.display =\n",
              "          google.colab.kernel.accessAllowed ? 'block' : 'none';\n",
              "\n",
              "        async function convertToInteractive(key) {\n",
              "          const element = document.querySelector('#df-50d3f3ed-2522-41cc-90c2-39ec7fe1339c');\n",
              "          const dataTable =\n",
              "            await google.colab.kernel.invokeFunction('convertToInteractive',\n",
              "                                                     [key], {});\n",
              "          if (!dataTable) return;\n",
              "\n",
              "          const docLinkHtml = 'Like what you see? Visit the ' +\n",
              "            '<a target=\"_blank\" href=https://colab.research.google.com/notebooks/data_table.ipynb>data table notebook</a>'\n",
              "            + ' to learn more about interactive tables.';\n",
              "          element.innerHTML = '';\n",
              "          dataTable['output_type'] = 'display_data';\n",
              "          await google.colab.output.renderOutput(dataTable, element);\n",
              "          const docLink = document.createElement('div');\n",
              "          docLink.innerHTML = docLinkHtml;\n",
              "          element.appendChild(docLink);\n",
              "        }\n",
              "      </script>\n",
              "    </div>\n",
              "  </div>\n",
              "  "
            ]
          },
          "metadata": {},
          "execution_count": 39
        }
      ]
    },
    {
      "cell_type": "code",
      "source": [
        "#\n",
        "f_oneway(stripSearchs['Sex'], stripSearchs['StripSearch'])"
      ],
      "metadata": {
        "colab": {
          "base_uri": "https://localhost:8080/"
        },
        "id": "xjMM5DMrYca2",
        "outputId": "52d93f76-d4c8-46ba-9e73-81fc7fde1e63"
      },
      "execution_count": 40,
      "outputs": [
        {
          "output_type": "execute_result",
          "data": {
            "text/plain": [
              "F_onewayResult(statistic=19.858378400459383, pvalue=1.2888886143426989e-05)"
            ]
          },
          "metadata": {},
          "execution_count": 40
        }
      ]
    },
    {
      "cell_type": "code",
      "source": [
        "tukey = pairwise_tukeyhsd(endog=stripSearchs[\"StripSearch\"], groups=stripSearchs['Sex'], alpha=0.05)\n",
        "print(tukey)"
      ],
      "metadata": {
        "colab": {
          "base_uri": "https://localhost:8080/"
        },
        "id": "ZCAnBQJLYhBo",
        "outputId": "cbe3cf16-e203-408f-aa39-64e7f6a662b2"
      },
      "execution_count": 41,
      "outputs": [
        {
          "output_type": "stream",
          "name": "stdout",
          "text": [
            "  Multiple Comparison of Means - Tukey HSD, FWER=0.05  \n",
            "=======================================================\n",
            "group1 group2 meandiff p-adj    lower    upper   reject\n",
            "-------------------------------------------------------\n",
            "     0      1  93.4643 0.0045   24.9176  162.011   True\n",
            "     0      2 -22.9107    0.9 -168.3202 122.4987  False\n",
            "     1      2 -116.375 0.1432 -261.7845  29.0345  False\n",
            "-------------------------------------------------------\n"
          ]
        }
      ]
    },
    {
      "cell_type": "code",
      "source": [
        "bookedRaceSexIntModel = ols('Booked ~ C(Sex) + C(Perceived_Race) + C(Sex):C(Perceived_Race)', data = stripSearchs).fit()\n",
        "sm.stats.anova_lm(bookedRaceSexIntModel, typ=2)"
      ],
      "metadata": {
        "colab": {
          "base_uri": "https://localhost:8080/",
          "height": 266
        },
        "id": "a2VdnU5zYiaw",
        "outputId": "cdfaec5e-c4b6-495e-b16f-f502cd7af2bc"
      },
      "execution_count": 42,
      "outputs": [
        {
          "output_type": "stream",
          "name": "stderr",
          "text": [
            "/usr/local/lib/python3.8/dist-packages/statsmodels/base/model.py:1832: ValueWarning: covariance of constraints does not have full rank. The number of constraints is 7, but rank is 3\n",
            "  warnings.warn('covariance of constraints does not have full '\n",
            "/usr/local/lib/python3.8/dist-packages/statsmodels/base/model.py:1832: ValueWarning: covariance of constraints does not have full rank. The number of constraints is 14, but rank is 10\n",
            "  warnings.warn('covariance of constraints does not have full '\n"
          ]
        },
        {
          "output_type": "execute_result",
          "data": {
            "text/plain": [
              "                                sum_sq     df          F    PR(>F)\n",
              "C(Sex)                    5.740725e+06    2.0  13.810559  0.000005\n",
              "C(Perceived_Race)         1.521349e+07    7.0  10.456953  0.000005\n",
              "C(Sex):C(Perceived_Race)  9.086819e+06   14.0   3.122902  0.001659\n",
              "Residual                  2.078383e+07  100.0        NaN       NaN"
            ],
            "text/html": [
              "\n",
              "  <div id=\"df-96dc8fa0-9aa3-42ad-82c8-c7a2ee0dacfd\">\n",
              "    <div class=\"colab-df-container\">\n",
              "      <div>\n",
              "<style scoped>\n",
              "    .dataframe tbody tr th:only-of-type {\n",
              "        vertical-align: middle;\n",
              "    }\n",
              "\n",
              "    .dataframe tbody tr th {\n",
              "        vertical-align: top;\n",
              "    }\n",
              "\n",
              "    .dataframe thead th {\n",
              "        text-align: right;\n",
              "    }\n",
              "</style>\n",
              "<table border=\"1\" class=\"dataframe\">\n",
              "  <thead>\n",
              "    <tr style=\"text-align: right;\">\n",
              "      <th></th>\n",
              "      <th>sum_sq</th>\n",
              "      <th>df</th>\n",
              "      <th>F</th>\n",
              "      <th>PR(&gt;F)</th>\n",
              "    </tr>\n",
              "  </thead>\n",
              "  <tbody>\n",
              "    <tr>\n",
              "      <th>C(Sex)</th>\n",
              "      <td>5.740725e+06</td>\n",
              "      <td>2.0</td>\n",
              "      <td>13.810559</td>\n",
              "      <td>0.000005</td>\n",
              "    </tr>\n",
              "    <tr>\n",
              "      <th>C(Perceived_Race)</th>\n",
              "      <td>1.521349e+07</td>\n",
              "      <td>7.0</td>\n",
              "      <td>10.456953</td>\n",
              "      <td>0.000005</td>\n",
              "    </tr>\n",
              "    <tr>\n",
              "      <th>C(Sex):C(Perceived_Race)</th>\n",
              "      <td>9.086819e+06</td>\n",
              "      <td>14.0</td>\n",
              "      <td>3.122902</td>\n",
              "      <td>0.001659</td>\n",
              "    </tr>\n",
              "    <tr>\n",
              "      <th>Residual</th>\n",
              "      <td>2.078383e+07</td>\n",
              "      <td>100.0</td>\n",
              "      <td>NaN</td>\n",
              "      <td>NaN</td>\n",
              "    </tr>\n",
              "  </tbody>\n",
              "</table>\n",
              "</div>\n",
              "      <button class=\"colab-df-convert\" onclick=\"convertToInteractive('df-96dc8fa0-9aa3-42ad-82c8-c7a2ee0dacfd')\"\n",
              "              title=\"Convert this dataframe to an interactive table.\"\n",
              "              style=\"display:none;\">\n",
              "        \n",
              "  <svg xmlns=\"http://www.w3.org/2000/svg\" height=\"24px\"viewBox=\"0 0 24 24\"\n",
              "       width=\"24px\">\n",
              "    <path d=\"M0 0h24v24H0V0z\" fill=\"none\"/>\n",
              "    <path d=\"M18.56 5.44l.94 2.06.94-2.06 2.06-.94-2.06-.94-.94-2.06-.94 2.06-2.06.94zm-11 1L8.5 8.5l.94-2.06 2.06-.94-2.06-.94L8.5 2.5l-.94 2.06-2.06.94zm10 10l.94 2.06.94-2.06 2.06-.94-2.06-.94-.94-2.06-.94 2.06-2.06.94z\"/><path d=\"M17.41 7.96l-1.37-1.37c-.4-.4-.92-.59-1.43-.59-.52 0-1.04.2-1.43.59L10.3 9.45l-7.72 7.72c-.78.78-.78 2.05 0 2.83L4 21.41c.39.39.9.59 1.41.59.51 0 1.02-.2 1.41-.59l7.78-7.78 2.81-2.81c.8-.78.8-2.07 0-2.86zM5.41 20L4 18.59l7.72-7.72 1.47 1.35L5.41 20z\"/>\n",
              "  </svg>\n",
              "      </button>\n",
              "      \n",
              "  <style>\n",
              "    .colab-df-container {\n",
              "      display:flex;\n",
              "      flex-wrap:wrap;\n",
              "      gap: 12px;\n",
              "    }\n",
              "\n",
              "    .colab-df-convert {\n",
              "      background-color: #E8F0FE;\n",
              "      border: none;\n",
              "      border-radius: 50%;\n",
              "      cursor: pointer;\n",
              "      display: none;\n",
              "      fill: #1967D2;\n",
              "      height: 32px;\n",
              "      padding: 0 0 0 0;\n",
              "      width: 32px;\n",
              "    }\n",
              "\n",
              "    .colab-df-convert:hover {\n",
              "      background-color: #E2EBFA;\n",
              "      box-shadow: 0px 1px 2px rgba(60, 64, 67, 0.3), 0px 1px 3px 1px rgba(60, 64, 67, 0.15);\n",
              "      fill: #174EA6;\n",
              "    }\n",
              "\n",
              "    [theme=dark] .colab-df-convert {\n",
              "      background-color: #3B4455;\n",
              "      fill: #D2E3FC;\n",
              "    }\n",
              "\n",
              "    [theme=dark] .colab-df-convert:hover {\n",
              "      background-color: #434B5C;\n",
              "      box-shadow: 0px 1px 3px 1px rgba(0, 0, 0, 0.15);\n",
              "      filter: drop-shadow(0px 1px 2px rgba(0, 0, 0, 0.3));\n",
              "      fill: #FFFFFF;\n",
              "    }\n",
              "  </style>\n",
              "\n",
              "      <script>\n",
              "        const buttonEl =\n",
              "          document.querySelector('#df-96dc8fa0-9aa3-42ad-82c8-c7a2ee0dacfd button.colab-df-convert');\n",
              "        buttonEl.style.display =\n",
              "          google.colab.kernel.accessAllowed ? 'block' : 'none';\n",
              "\n",
              "        async function convertToInteractive(key) {\n",
              "          const element = document.querySelector('#df-96dc8fa0-9aa3-42ad-82c8-c7a2ee0dacfd');\n",
              "          const dataTable =\n",
              "            await google.colab.kernel.invokeFunction('convertToInteractive',\n",
              "                                                     [key], {});\n",
              "          if (!dataTable) return;\n",
              "\n",
              "          const docLinkHtml = 'Like what you see? Visit the ' +\n",
              "            '<a target=\"_blank\" href=https://colab.research.google.com/notebooks/data_table.ipynb>data table notebook</a>'\n",
              "            + ' to learn more about interactive tables.';\n",
              "          element.innerHTML = '';\n",
              "          dataTable['output_type'] = 'display_data';\n",
              "          await google.colab.output.renderOutput(dataTable, element);\n",
              "          const docLink = document.createElement('div');\n",
              "          docLink.innerHTML = docLinkHtml;\n",
              "          element.appendChild(docLink);\n",
              "        }\n",
              "      </script>\n",
              "    </div>\n",
              "  </div>\n",
              "  "
            ]
          },
          "metadata": {},
          "execution_count": 42
        }
      ]
    },
    {
      "cell_type": "code",
      "source": [
        "#Plot an interaction plot\n",
        "fig = interaction_plot(x = stripSearchs['Perceived_Race'], trace = stripSearchs['Sex'], response = stripSearchs['Booked'])\n",
        "plt.xticks(rotation=45)\n",
        "plt.show()"
      ],
      "metadata": {
        "colab": {
          "base_uri": "https://localhost:8080/",
          "height": 691
        },
        "id": "pL3zCmfiYj3N",
        "outputId": "1250620b-76f7-4e10-aafe-0e675b6eecc8"
      },
      "execution_count": 43,
      "outputs": [
        {
          "output_type": "display_data",
          "data": {
            "text/plain": [
              "<Figure size 1080x720 with 1 Axes>"
            ],
            "image/png": "[encoded data removed]"
          },
          "metadata": {}
        }
      ]
    },
    {
      "cell_type": "code",
      "source": [
        "#Two-way ANOVA without interaction\n",
        "bookedRaceSexModel = ols('Booked ~ C(Sex) + C(Perceived_Race)', data = stripSearchs).fit()\n",
        "sm.stats.anova_lm(bookedRaceSexModel, typ=2)"
      ],
      "metadata": {
        "colab": {
          "base_uri": "https://localhost:8080/",
          "height": 143
        },
        "id": "0EgemDrFYlcS",
        "outputId": "27fe4f24-6cf0-424a-a37c-69a8ba086980"
      },
      "execution_count": 44,
      "outputs": [
        {
          "output_type": "execute_result",
          "data": {
            "text/plain": [
              "                         sum_sq     df          F    PR(>F)\n",
              "C(Sex)             6.231389e+06    2.0  12.697245  0.000011\n",
              "C(Perceived_Race)  1.113641e+07    7.0   6.483387  0.000002\n",
              "Residual           2.674680e+07  109.0        NaN       NaN"
            ],
            "text/html": [
              "\n",
              "  <div id=\"df-f1827861-812b-41e3-b65d-49f6c40a0007\">\n",
              "    <div class=\"colab-df-container\">\n",
              "      <div>\n",
              "<style scoped>\n",
              "    .dataframe tbody tr th:only-of-type {\n",
              "        vertical-align: middle;\n",
              "    }\n",
              "\n",
              "    .dataframe tbody tr th {\n",
              "        vertical-align: top;\n",
              "    }\n",
              "\n",
              "    .dataframe thead th {\n",
              "        text-align: right;\n",
              "    }\n",
              "</style>\n",
              "<table border=\"1\" class=\"dataframe\">\n",
              "  <thead>\n",
              "    <tr style=\"text-align: right;\">\n",
              "      <th></th>\n",
              "      <th>sum_sq</th>\n",
              "      <th>df</th>\n",
              "      <th>F</th>\n",
              "      <th>PR(&gt;F)</th>\n",
              "    </tr>\n",
              "  </thead>\n",
              "  <tbody>\n",
              "    <tr>\n",
              "      <th>C(Sex)</th>\n",
              "      <td>6.231389e+06</td>\n",
              "      <td>2.0</td>\n",
              "      <td>12.697245</td>\n",
              "      <td>0.000011</td>\n",
              "    </tr>\n",
              "    <tr>\n",
              "      <th>C(Perceived_Race)</th>\n",
              "      <td>1.113641e+07</td>\n",
              "      <td>7.0</td>\n",
              "      <td>6.483387</td>\n",
              "      <td>0.000002</td>\n",
              "    </tr>\n",
              "    <tr>\n",
              "      <th>Residual</th>\n",
              "      <td>2.674680e+07</td>\n",
              "      <td>109.0</td>\n",
              "      <td>NaN</td>\n",
              "      <td>NaN</td>\n",
              "    </tr>\n",
              "  </tbody>\n",
              "</table>\n",
              "</div>\n",
              "      <button class=\"colab-df-convert\" onclick=\"convertToInteractive('df-f1827861-812b-41e3-b65d-49f6c40a0007')\"\n",
              "              title=\"Convert this dataframe to an interactive table.\"\n",
              "              style=\"display:none;\">\n",
              "        \n",
              "  <svg xmlns=\"http://www.w3.org/2000/svg\" height=\"24px\"viewBox=\"0 0 24 24\"\n",
              "       width=\"24px\">\n",
              "    <path d=\"M0 0h24v24H0V0z\" fill=\"none\"/>\n",
              "    <path d=\"M18.56 5.44l.94 2.06.94-2.06 2.06-.94-2.06-.94-.94-2.06-.94 2.06-2.06.94zm-11 1L8.5 8.5l.94-2.06 2.06-.94-2.06-.94L8.5 2.5l-.94 2.06-2.06.94zm10 10l.94 2.06.94-2.06 2.06-.94-2.06-.94-.94-2.06-.94 2.06-2.06.94z\"/><path d=\"M17.41 7.96l-1.37-1.37c-.4-.4-.92-.59-1.43-.59-.52 0-1.04.2-1.43.59L10.3 9.45l-7.72 7.72c-.78.78-.78 2.05 0 2.83L4 21.41c.39.39.9.59 1.41.59.51 0 1.02-.2 1.41-.59l7.78-7.78 2.81-2.81c.8-.78.8-2.07 0-2.86zM5.41 20L4 18.59l7.72-7.72 1.47 1.35L5.41 20z\"/>\n",
              "  </svg>\n",
              "      </button>\n",
              "      \n",
              "  <style>\n",
              "    .colab-df-container {\n",
              "      display:flex;\n",
              "      flex-wrap:wrap;\n",
              "      gap: 12px;\n",
              "    }\n",
              "\n",
              "    .colab-df-convert {\n",
              "      background-color: #E8F0FE;\n",
              "      border: none;\n",
              "      border-radius: 50%;\n",
              "      cursor: pointer;\n",
              "      display: none;\n",
              "      fill: #1967D2;\n",
              "      height: 32px;\n",
              "      padding: 0 0 0 0;\n",
              "      width: 32px;\n",
              "    }\n",
              "\n",
              "    .colab-df-convert:hover {\n",
              "      background-color: #E2EBFA;\n",
              "      box-shadow: 0px 1px 2px rgba(60, 64, 67, 0.3), 0px 1px 3px 1px rgba(60, 64, 67, 0.15);\n",
              "      fill: #174EA6;\n",
              "    }\n",
              "\n",
              "    [theme=dark] .colab-df-convert {\n",
              "      background-color: #3B4455;\n",
              "      fill: #D2E3FC;\n",
              "    }\n",
              "\n",
              "    [theme=dark] .colab-df-convert:hover {\n",
              "      background-color: #434B5C;\n",
              "      box-shadow: 0px 1px 3px 1px rgba(0, 0, 0, 0.15);\n",
              "      filter: drop-shadow(0px 1px 2px rgba(0, 0, 0, 0.3));\n",
              "      fill: #FFFFFF;\n",
              "    }\n",
              "  </style>\n",
              "\n",
              "      <script>\n",
              "        const buttonEl =\n",
              "          document.querySelector('#df-f1827861-812b-41e3-b65d-49f6c40a0007 button.colab-df-convert');\n",
              "        buttonEl.style.display =\n",
              "          google.colab.kernel.accessAllowed ? 'block' : 'none';\n",
              "\n",
              "        async function convertToInteractive(key) {\n",
              "          const element = document.querySelector('#df-f1827861-812b-41e3-b65d-49f6c40a0007');\n",
              "          const dataTable =\n",
              "            await google.colab.kernel.invokeFunction('convertToInteractive',\n",
              "                                                     [key], {});\n",
              "          if (!dataTable) return;\n",
              "\n",
              "          const docLinkHtml = 'Like what you see? Visit the ' +\n",
              "            '<a target=\"_blank\" href=https://colab.research.google.com/notebooks/data_table.ipynb>data table notebook</a>'\n",
              "            + ' to learn more about interactive tables.';\n",
              "          element.innerHTML = '';\n",
              "          dataTable['output_type'] = 'display_data';\n",
              "          await google.colab.output.renderOutput(dataTable, element);\n",
              "          const docLink = document.createElement('div');\n",
              "          docLink.innerHTML = docLinkHtml;\n",
              "          element.appendChild(docLink);\n",
              "        }\n",
              "      </script>\n",
              "    </div>\n",
              "  </div>\n",
              "  "
            ]
          },
          "metadata": {},
          "execution_count": 44
        }
      ]
    },
    {
      "cell_type": "code",
      "source": [
        "f_oneway(stripSearchs['Sex'], stripSearchs['Booked'])"
      ],
      "metadata": {
        "colab": {
          "base_uri": "https://localhost:8080/"
        },
        "id": "I6-nDD9XYnQI",
        "outputId": "24e46653-7900-4f10-cc69-5b4896876f4e"
      },
      "execution_count": 45,
      "outputs": [
        {
          "output_type": "execute_result",
          "data": {
            "text/plain": [
              "F_onewayResult(statistic=26.291701071708637, pvalue=6.1160661530168e-07)"
            ]
          },
          "metadata": {},
          "execution_count": 45
        }
      ]
    },
    {
      "cell_type": "code",
      "source": [
        "tukey = pairwise_tukeyhsd(endog=stripSearchs[\"Booked\"], groups=stripSearchs['Sex'], alpha=0.05)\n",
        "print(tukey)"
      ],
      "metadata": {
        "colab": {
          "base_uri": "https://localhost:8080/"
        },
        "id": "8iRzNZK7YomQ",
        "outputId": "aa7da38f-03ae-4860-a591-2264fac2aace"
      },
      "execution_count": 46,
      "outputs": [
        {
          "output_type": "stream",
          "name": "stdout",
          "text": [
            "   Multiple Comparison of Means - Tukey HSD, FWER=0.05   \n",
            "=========================================================\n",
            "group1 group2  meandiff p-adj    lower     upper   reject\n",
            "---------------------------------------------------------\n",
            "     0      1  409.3036  0.001   152.8789 665.7282   True\n",
            "     0      2  -97.7679    0.9  -641.7267  446.191  False\n",
            "     1      2 -507.0714 0.0732 -1051.0303  36.8874  False\n",
            "---------------------------------------------------------\n"
          ]
        }
      ]
    },
    {
      "cell_type": "code",
      "source": [
        "f_oneway(stripSearchs['StripSearch'], stripSearchs['Booked'])"
      ],
      "metadata": {
        "colab": {
          "base_uri": "https://localhost:8080/"
        },
        "id": "7NK4Va4AYqso",
        "outputId": "5a0f2151-0727-4629-a678-fb4c81fc389f"
      },
      "execution_count": 47,
      "outputs": [
        {
          "output_type": "execute_result",
          "data": {
            "text/plain": [
              "F_onewayResult(statistic=14.63911012133458, pvalue=0.00016673619017817636)"
            ]
          },
          "metadata": {},
          "execution_count": 47
        }
      ]
    },
    {
      "cell_type": "code",
      "source": [
        "#Two-way ANOVA without interaction\n",
        "stripRaceSexModel = ols('Booked ~ C(StripSearch) + C(Perceived_Race)', data = stripSearchs).fit()\n",
        "sm.stats.anova_lm(stripRaceSexModel, typ=2)"
      ],
      "metadata": {
        "colab": {
          "base_uri": "https://localhost:8080/",
          "height": 143
        },
        "id": "VkWFIQSBYsuT",
        "outputId": "a6678354-2872-47f1-f382-4af9f9002c94"
      },
      "execution_count": 48,
      "outputs": [
        {
          "output_type": "execute_result",
          "data": {
            "text/plain": [
              "                         sum_sq    df           F        PR(>F)\n",
              "C(StripSearch)     3.291711e+07  53.0  589.751877  1.357488e-64\n",
              "C(Perceived_Race)  1.674163e+04   7.0    2.271032  4.096870e-02\n",
              "Residual           6.108077e+04  58.0         NaN           NaN"
            ],
            "text/html": [
              "\n",
              "  <div id=\"df-9431d28e-8af1-4049-90aa-17d28fb8f6c4\">\n",
              "    <div class=\"colab-df-container\">\n",
              "      <div>\n",
              "<style scoped>\n",
              "    .dataframe tbody tr th:only-of-type {\n",
              "        vertical-align: middle;\n",
              "    }\n",
              "\n",
              "    .dataframe tbody tr th {\n",
              "        vertical-align: top;\n",
              "    }\n",
              "\n",
              "    .dataframe thead th {\n",
              "        text-align: right;\n",
              "    }\n",
              "</style>\n",
              "<table border=\"1\" class=\"dataframe\">\n",
              "  <thead>\n",
              "    <tr style=\"text-align: right;\">\n",
              "      <th></th>\n",
              "      <th>sum_sq</th>\n",
              "      <th>df</th>\n",
              "      <th>F</th>\n",
              "      <th>PR(&gt;F)</th>\n",
              "    </tr>\n",
              "  </thead>\n",
              "  <tbody>\n",
              "    <tr>\n",
              "      <th>C(StripSearch)</th>\n",
              "      <td>3.291711e+07</td>\n",
              "      <td>53.0</td>\n",
              "      <td>589.751877</td>\n",
              "      <td>1.357488e-64</td>\n",
              "    </tr>\n",
              "    <tr>\n",
              "      <th>C(Perceived_Race)</th>\n",
              "      <td>1.674163e+04</td>\n",
              "      <td>7.0</td>\n",
              "      <td>2.271032</td>\n",
              "      <td>4.096870e-02</td>\n",
              "    </tr>\n",
              "    <tr>\n",
              "      <th>Residual</th>\n",
              "      <td>6.108077e+04</td>\n",
              "      <td>58.0</td>\n",
              "      <td>NaN</td>\n",
              "      <td>NaN</td>\n",
              "    </tr>\n",
              "  </tbody>\n",
              "</table>\n",
              "</div>\n",
              "      <button class=\"colab-df-convert\" onclick=\"convertToInteractive('df-9431d28e-8af1-4049-90aa-17d28fb8f6c4')\"\n",
              "              title=\"Convert this dataframe to an interactive table.\"\n",
              "              style=\"display:none;\">\n",
              "        \n",
              "  <svg xmlns=\"http://www.w3.org/2000/svg\" height=\"24px\"viewBox=\"0 0 24 24\"\n",
              "       width=\"24px\">\n",
              "    <path d=\"M0 0h24v24H0V0z\" fill=\"none\"/>\n",
              "    <path d=\"M18.56 5.44l.94 2.06.94-2.06 2.06-.94-2.06-.94-.94-2.06-.94 2.06-2.06.94zm-11 1L8.5 8.5l.94-2.06 2.06-.94-2.06-.94L8.5 2.5l-.94 2.06-2.06.94zm10 10l.94 2.06.94-2.06 2.06-.94-2.06-.94-.94-2.06-.94 2.06-2.06.94z\"/><path d=\"M17.41 7.96l-1.37-1.37c-.4-.4-.92-.59-1.43-.59-.52 0-1.04.2-1.43.59L10.3 9.45l-7.72 7.72c-.78.78-.78 2.05 0 2.83L4 21.41c.39.39.9.59 1.41.59.51 0 1.02-.2 1.41-.59l7.78-7.78 2.81-2.81c.8-.78.8-2.07 0-2.86zM5.41 20L4 18.59l7.72-7.72 1.47 1.35L5.41 20z\"/>\n",
              "  </svg>\n",
              "      </button>\n",
              "      \n",
              "  <style>\n",
              "    .colab-df-container {\n",
              "      display:flex;\n",
              "      flex-wrap:wrap;\n",
              "      gap: 12px;\n",
              "    }\n",
              "\n",
              "    .colab-df-convert {\n",
              "      background-color: #E8F0FE;\n",
              "      border: none;\n",
              "      border-radius: 50%;\n",
              "      cursor: pointer;\n",
              "      display: none;\n",
              "      fill: #1967D2;\n",
              "      height: 32px;\n",
              "      padding: 0 0 0 0;\n",
              "      width: 32px;\n",
              "    }\n",
              "\n",
              "    .colab-df-convert:hover {\n",
              "      background-color: #E2EBFA;\n",
              "      box-shadow: 0px 1px 2px rgba(60, 64, 67, 0.3), 0px 1px 3px 1px rgba(60, 64, 67, 0.15);\n",
              "      fill: #174EA6;\n",
              "    }\n",
              "\n",
              "    [theme=dark] .colab-df-convert {\n",
              "      background-color: #3B4455;\n",
              "      fill: #D2E3FC;\n",
              "    }\n",
              "\n",
              "    [theme=dark] .colab-df-convert:hover {\n",
              "      background-color: #434B5C;\n",
              "      box-shadow: 0px 1px 3px 1px rgba(0, 0, 0, 0.15);\n",
              "      filter: drop-shadow(0px 1px 2px rgba(0, 0, 0, 0.3));\n",
              "      fill: #FFFFFF;\n",
              "    }\n",
              "  </style>\n",
              "\n",
              "      <script>\n",
              "        const buttonEl =\n",
              "          document.querySelector('#df-9431d28e-8af1-4049-90aa-17d28fb8f6c4 button.colab-df-convert');\n",
              "        buttonEl.style.display =\n",
              "          google.colab.kernel.accessAllowed ? 'block' : 'none';\n",
              "\n",
              "        async function convertToInteractive(key) {\n",
              "          const element = document.querySelector('#df-9431d28e-8af1-4049-90aa-17d28fb8f6c4');\n",
              "          const dataTable =\n",
              "            await google.colab.kernel.invokeFunction('convertToInteractive',\n",
              "                                                     [key], {});\n",
              "          if (!dataTable) return;\n",
              "\n",
              "          const docLinkHtml = 'Like what you see? Visit the ' +\n",
              "            '<a target=\"_blank\" href=https://colab.research.google.com/notebooks/data_table.ipynb>data table notebook</a>'\n",
              "            + ' to learn more about interactive tables.';\n",
              "          element.innerHTML = '';\n",
              "          dataTable['output_type'] = 'display_data';\n",
              "          await google.colab.output.renderOutput(dataTable, element);\n",
              "          const docLink = document.createElement('div');\n",
              "          docLink.innerHTML = docLinkHtml;\n",
              "          element.appendChild(docLink);\n",
              "        }\n",
              "      </script>\n",
              "    </div>\n",
              "  </div>\n",
              "  "
            ]
          },
          "metadata": {},
          "execution_count": 48
        }
      ]
    },
    {
      "cell_type": "code",
      "source": [
        "tukey = pairwise_tukeyhsd(endog=stripSearchs[\"Booked\"], groups=stripSearchs['Sex'], alpha=0.05)\n",
        "print(tukey)"
      ],
      "metadata": {
        "colab": {
          "base_uri": "https://localhost:8080/"
        },
        "id": "Ch9-YoshYuCU",
        "outputId": "1cd7d3d5-28d0-4758-f2ba-16226938c903"
      },
      "execution_count": 49,
      "outputs": [
        {
          "output_type": "stream",
          "name": "stdout",
          "text": [
            "   Multiple Comparison of Means - Tukey HSD, FWER=0.05   \n",
            "=========================================================\n",
            "group1 group2  meandiff p-adj    lower     upper   reject\n",
            "---------------------------------------------------------\n",
            "     0      1  409.3036  0.001   152.8789 665.7282   True\n",
            "     0      2  -97.7679    0.9  -641.7267  446.191  False\n",
            "     1      2 -507.0714 0.0732 -1051.0303  36.8874  False\n",
            "---------------------------------------------------------\n"
          ]
        }
      ]
    },
    {
      "cell_type": "code",
      "source": [
        "tukey = pairwise_tukeyhsd(endog=stripSearchs[\"Booked\"], groups=stripSearchs['Perceived_Race'], alpha=0.05)\n",
        "print(tukey)"
      ],
      "metadata": {
        "colab": {
          "base_uri": "https://localhost:8080/"
        },
        "id": "M_kfoYrVYvh8",
        "outputId": "ddda068d-e8fc-4586-a27f-0a99b4db5f6b"
      },
      "execution_count": 50,
      "outputs": [
        {
          "output_type": "stream",
          "name": "stdout",
          "text": [
            "                 Multiple Comparison of Means - Tukey HSD, FWER=0.05                  \n",
            "======================================================================================\n",
            "       group1               group2         meandiff p-adj    lower      upper   reject\n",
            "--------------------------------------------------------------------------------------\n",
            "               Black East/Southeast Asian -541.1429 0.1576 -1177.6215   95.3357  False\n",
            "               Black           Indigenous -614.0714 0.0671   -1250.55   22.4072  False\n",
            "               Black               Latino  -626.381 0.0496 -1252.1617   -0.6002   True\n",
            "               Black       Middle-Eastern -574.1429  0.109 -1210.6215   62.3357  False\n",
            "               Black          South Asian -563.7857 0.1231 -1200.2643   72.6929  False\n",
            "               Black    Unknown or Legacy -547.3613 0.1102 -1155.1117    60.389  False\n",
            "               Black                White  147.9328    0.9  -459.8175  755.6831  False\n",
            "East/Southeast Asian           Indigenous  -72.9286    0.9  -709.4072    563.55  False\n",
            "East/Southeast Asian               Latino  -85.2381    0.9  -711.0188  540.5426  False\n",
            "East/Southeast Asian       Middle-Eastern     -33.0    0.9  -669.4786  603.4786  False\n",
            "East/Southeast Asian          South Asian  -22.6429    0.9  -659.1215  613.8357  False\n",
            "East/Southeast Asian    Unknown or Legacy   -6.2185    0.9  -613.9688  601.5318  False\n",
            "East/Southeast Asian                White  689.0756 0.0148    81.3253  1296.826   True\n",
            "          Indigenous               Latino  -12.3095    0.9  -638.0902  613.4712  False\n",
            "          Indigenous       Middle-Eastern   39.9286    0.9    -596.55  676.4072  False\n",
            "          Indigenous          South Asian   50.2857    0.9  -586.1929  686.7643  False\n",
            "          Indigenous    Unknown or Legacy   66.7101    0.9  -541.0402  674.4604  False\n",
            "          Indigenous                White  762.0042 0.0044   154.2539 1369.7545   True\n",
            "              Latino       Middle-Eastern   52.2381    0.9  -573.5426  678.0188  False\n",
            "              Latino          South Asian   62.5952    0.9  -563.1855   688.376  False\n",
            "              Latino    Unknown or Legacy   79.0196    0.9  -517.5179  675.5571  False\n",
            "              Latino                White  774.3137 0.0027   177.7763 1370.8512   True\n",
            "      Middle-Eastern          South Asian   10.3571    0.9  -626.1215  646.8357  False\n",
            "      Middle-Eastern    Unknown or Legacy   26.7815    0.9  -580.9688  634.5318  False\n",
            "      Middle-Eastern                White  722.0756 0.0087   114.3253  1329.826   True\n",
            "         South Asian    Unknown or Legacy   16.4244    0.9   -591.326  624.1747  False\n",
            "         South Asian                White  711.7185 0.0103   103.9682 1319.4688   True\n",
            "   Unknown or Legacy                White  695.2941 0.0074   117.6992  1272.889   True\n",
            "--------------------------------------------------------------------------------------\n"
          ]
        }
      ]
    },
    {
      "cell_type": "code",
      "source": [],
      "metadata": {
        "id": "8LJl9wEzYwsI"
      },
      "execution_count": null,
      "outputs": []
    }
  ]
}